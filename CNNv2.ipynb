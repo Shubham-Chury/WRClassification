{
  "cells": [
    {
      "cell_type": "code",
      "execution_count": null,
      "metadata": {
        "id": "uQMw2EWQtmzf"
      },
      "outputs": [],
      "source": [
        "import numpy as np\n",
        "import pandas as pd\n",
        "import tensorflow as tf\n",
        "#import wandb\n",
        "from ast import literal_eval\n",
        "from tensorflow.keras.backend import categorical_crossentropy\n",
        "from tensorflow import keras\n",
        "from keras import layers\n",
        "from keras.models import Sequential\n",
        "from keras.layers import Conv2D, Rescaling, MaxPooling2D, Dropout, Flatten, Dense, Normalization\n",
        "from keras.utils import to_categorical\n",
        "from sklearn.preprocessing import OneHotEncoder\n",
        "from sklearn.model_selection import train_test_split\n",
        "from sklearn.metrics import confusion_matrix, ConfusionMatrixDisplay\n",
        "import matplotlib.pyplot as plt\n",
        "from sklearn.metrics import accuracy_score"
      ]
    },
    {
      "cell_type": "code",
      "execution_count": null,
      "metadata": {
        "colab": {
          "base_uri": "https://localhost:8080/"
        },
        "id": "dBfviCnstk-s",
        "outputId": "812727f8-3c93-4811-cc7f-5816958035fb"
      },
      "outputs": [
        {
          "output_type": "execute_result",
          "data": {
            "text/plain": [
              "[PhysicalDevice(name='/physical_device:GPU:0', device_type='GPU')]"
            ]
          },
          "metadata": {},
          "execution_count": 2
        }
      ],
      "source": [
        "tf.config.list_physical_devices('GPU')"
      ]
    },
    {
      "cell_type": "code",
      "source": [
        "from google.colab import drive\n",
        "drive.mount('/content/drive')"
      ],
      "metadata": {
        "colab": {
          "base_uri": "https://localhost:8080/"
        },
        "id": "rCyKgXoO8pIq",
        "outputId": "66497178-5140-4d8c-af56-4deebfc900e5"
      },
      "execution_count": null,
      "outputs": [
        {
          "output_type": "stream",
          "name": "stdout",
          "text": [
            "Mounted at /content/drive\n"
          ]
        }
      ]
    },
    {
      "cell_type": "code",
      "source": [
        "def Model(config):\n",
        "    model = keras.Sequential()\n",
        "    model.add(keras.layers.Conv2D(32, (3, 3), input_shape=x_train.shape[1:], padding='same'))\n",
        "    model.add(keras.layers.Activation('relu'))\n",
        "    model.add(keras.layers.Conv2D(32, 3, input_shape=(32, 32, 3), activation='relu', padding='same'))\n",
        "    model.add(keras.layers.Dropout(0.2))\n",
        "    model.add(keras.layers.BatchNormalization())\n",
        "    model.add(keras.layers.Conv2D(64, 3, activation='relu', padding='same'))\n",
        "    model.add(keras.layers.MaxPooling2D(2))\n",
        "    model.add(keras.layers.Dropout(0.2))\n",
        "    model.add(keras.layers.BatchNormalization())\n",
        "    model.add(keras.layers.Conv2D(64, 3, activation='relu', padding='same'))\n",
        "    model.add(keras.layers.MaxPooling2D(2))\n",
        "    model.add(keras.layers.Dropout(0.2))\n",
        "    model.add(keras.layers.BatchNormalization())\n",
        "\n",
        "    model.add(keras.layers.Conv2D(128, 3, activation='relu', padding='same'))\n",
        "    model.add(keras.layers.Dropout(0.2))\n",
        "    model.add(keras.layers.BatchNormalization())\n",
        "    model.add(keras.layers.Dropout(0.2))\n",
        "\n",
        "    model.add(keras.layers.Conv2D(128, 3, activation='relu', padding='same'))\n",
        "    model.add(keras.layers.Dropout(0.2))\n",
        "    model.add(keras.layers.BatchNormalization())\n",
        "    model.add(keras.layers.Flatten())\n",
        "\n",
        "    model.add(keras.layers.Dense(32, activation='relu'))\n",
        "    model.add(keras.layers.Dropout(0.3))\n",
        "    model.add(keras.layers.BatchNormalization())\n",
        "\n",
        "    model.add(keras.layers.Dense(3, activation='softmax'))\n",
        "    return model"
      ],
      "metadata": {
        "id": "C6TN3HZxwfAi"
      },
      "execution_count": null,
      "outputs": []
    },
    {
      "cell_type": "code",
      "source": [
        "config = {\n",
        "    'image_size': (256,266,3),\n",
        "    'dropout_1': 0.3,\n",
        "    'dropout_2': 0.1,\n",
        "    'dropout_3': 0.1,\n",
        "}\n",
        "\n",
        "config.update({\n",
        "    'batch_size': 50,\n",
        "    'epochs': 500,\n",
        "    'learning_rate': 0.05,\n",
        "    'loss': 'categorical_crossentropy',\n",
        "    'optimizer': 'adam',\n",
        "    'random_seed': 42,\n",
        "    'train_data_version': \"ZTFSS\",\n",
        "    'early_stopping_patience': 30,\n",
        "    'LR_plateau_patience': 10,\n",
        "    'reduce_LR_factor': 0.1,\n",
        "    'reduce_LR_minLR': 1e-6,\n",
        "    'beta_1': 0.9,\n",
        "    'beta_2': 0.999\n",
        "})\n",
        "\n",
        "tf.keras.backend.clear_session()\n",
        "tf.keras.utils.set_random_seed(config[\"random_seed\"])\n",
        "early_stopping = tf.keras.callbacks.EarlyStopping(\n",
        "    monitor='val_loss',\n",
        "    verbose=1,\n",
        "    patience=config['early_stopping_patience']\n",
        ")\n",
        "\n",
        "LR_plateau = tf.keras.callbacks.ReduceLROnPlateau(\n",
        "    monitor=\"val_loss\",\n",
        "    patience=config['LR_plateau_patience'],\n",
        "    factor=config['reduce_LR_factor'],\n",
        "    min_lr=config['reduce_LR_minLR'],\n",
        "    verbose=0\n",
        ")"
      ],
      "metadata": {
        "id": "vwFTXATxwhHT"
      },
      "execution_count": null,
      "outputs": []
    },
    {
      "cell_type": "code",
      "source": [
        "ohe = OneHotEncoder()\n",
        "dict = {\"B\":0, \"C\":1, \"M\":2}\n",
        "cand = pd.read_csv(\"/content/drive/MyDrive/nolabels.csv\")\n",
        "images = np.load(\"/content/drive/MyDrive/imagecsv.npy\")\n",
        "\n",
        "Ylen = len(images)\n",
        "\n",
        "Y_no = np.array([dict[item] for item in cand['Label']]).reshape(Ylen,1)\n",
        "Y_one_hot = ohe.fit_transform(Y_no).toarray()"
      ],
      "metadata": {
        "id": "E10ryyTqwlBt"
      },
      "execution_count": null,
      "outputs": []
    },
    {
      "cell_type": "code",
      "source": [
        "x_trainp, x_test, y_trainp, y_test = train_test_split(images, Y_one_hot, random_state = 42, test_size=0.2, train_size=0.8)"
      ],
      "metadata": {
        "id": "DhoFXOTwcKxQ"
      },
      "execution_count": null,
      "outputs": []
    },
    {
      "cell_type": "code",
      "source": [
        "x_train, x_val, y_train, y_val = train_test_split(images, Y_one_hot, random_state = 101, test_size=0.25)"
      ],
      "metadata": {
        "id": "JY_8E0ykOmU6"
      },
      "execution_count": null,
      "outputs": []
    },
    {
      "cell_type": "code",
      "source": [
        "#x_train,x_val, y_train, y_val = train_test_split(x_trainp, y_trainp, random_state = 42, test_size = 0.1,train_size =0.9)"
      ],
      "metadata": {
        "id": "EIOilhADdaeg"
      },
      "execution_count": null,
      "outputs": []
    },
    {
      "cell_type": "code",
      "source": [
        "model = Model(config)"
      ],
      "metadata": {
        "id": "k35XGpjMwyqb"
      },
      "execution_count": null,
      "outputs": []
    },
    {
      "cell_type": "code",
      "source": [
        "model.summary()"
      ],
      "metadata": {
        "id": "J4dbQ7jL5lUm",
        "colab": {
          "base_uri": "https://localhost:8080/"
        },
        "outputId": "0a8b4212-1dfa-4ea7-bc47-900eb8169010"
      },
      "execution_count": null,
      "outputs": [
        {
          "output_type": "stream",
          "name": "stdout",
          "text": [
            "Model: \"sequential\"\n",
            "_________________________________________________________________\n",
            " Layer (type)                Output Shape              Param #   \n",
            "=================================================================\n",
            " conv2d (Conv2D)             (None, 256, 256, 32)      896       \n",
            "                                                                 \n",
            " activation (Activation)     (None, 256, 256, 32)      0         \n",
            "                                                                 \n",
            " conv2d_1 (Conv2D)           (None, 256, 256, 32)      9248      \n",
            "                                                                 \n",
            " dropout (Dropout)           (None, 256, 256, 32)      0         \n",
            "                                                                 \n",
            " batch_normalization (Batch  (None, 256, 256, 32)      128       \n",
            " Normalization)                                                  \n",
            "                                                                 \n",
            " conv2d_2 (Conv2D)           (None, 256, 256, 64)      18496     \n",
            "                                                                 \n",
            " max_pooling2d (MaxPooling2  (None, 128, 128, 64)      0         \n",
            " D)                                                              \n",
            "                                                                 \n",
            " dropout_1 (Dropout)         (None, 128, 128, 64)      0         \n",
            "                                                                 \n",
            " batch_normalization_1 (Bat  (None, 128, 128, 64)      256       \n",
            " chNormalization)                                                \n",
            "                                                                 \n",
            " conv2d_3 (Conv2D)           (None, 128, 128, 64)      36928     \n",
            "                                                                 \n",
            " max_pooling2d_1 (MaxPoolin  (None, 64, 64, 64)        0         \n",
            " g2D)                                                            \n",
            "                                                                 \n",
            " dropout_2 (Dropout)         (None, 64, 64, 64)        0         \n",
            "                                                                 \n",
            " batch_normalization_2 (Bat  (None, 64, 64, 64)        256       \n",
            " chNormalization)                                                \n",
            "                                                                 \n",
            " conv2d_4 (Conv2D)           (None, 64, 64, 128)       73856     \n",
            "                                                                 \n",
            " dropout_3 (Dropout)         (None, 64, 64, 128)       0         \n",
            "                                                                 \n",
            " batch_normalization_3 (Bat  (None, 64, 64, 128)       512       \n",
            " chNormalization)                                                \n",
            "                                                                 \n",
            " dropout_4 (Dropout)         (None, 64, 64, 128)       0         \n",
            "                                                                 \n",
            " conv2d_5 (Conv2D)           (None, 64, 64, 128)       147584    \n",
            "                                                                 \n",
            " dropout_5 (Dropout)         (None, 64, 64, 128)       0         \n",
            "                                                                 \n",
            " batch_normalization_4 (Bat  (None, 64, 64, 128)       512       \n",
            " chNormalization)                                                \n",
            "                                                                 \n",
            " flatten (Flatten)           (None, 524288)            0         \n",
            "                                                                 \n",
            " dense (Dense)               (None, 32)                16777248  \n",
            "                                                                 \n",
            " dropout_6 (Dropout)         (None, 32)                0         \n",
            "                                                                 \n",
            " batch_normalization_5 (Bat  (None, 32)                128       \n",
            " chNormalization)                                                \n",
            "                                                                 \n",
            " dense_1 (Dense)             (None, 3)                 99        \n",
            "                                                                 \n",
            "=================================================================\n",
            "Total params: 17066147 (65.10 MB)\n",
            "Trainable params: 17065251 (65.10 MB)\n",
            "Non-trainable params: 896 (3.50 KB)\n",
            "_________________________________________________________________\n"
          ]
        }
      ]
    },
    {
      "cell_type": "code",
      "source": [
        "def custom_accuracy(y_true, y_pred):\n",
        "    #print(y_true, y_pred)\n",
        "    tflat = tf.argmax(y_true)\n",
        "    pflat = tf.argmax(y_pred)\n",
        "    #print(tflat, pflat)\n",
        "    ca = tf.keras.metrics.Accuracy()\n",
        "    print(ca(labels = tflat, predictions = pflat))\n",
        "    return 0"
      ],
      "metadata": {
        "id": "NAuIY58lXCZH"
      },
      "execution_count": null,
      "outputs": []
    },
    {
      "cell_type": "code",
      "source": [
        "optimizer = tf.keras.optimizers.Adam(\n",
        "    learning_rate=config['learning_rate'],\n",
        "    beta_1=config['beta_1'],\n",
        "    beta_2=config['beta_2']\n",
        ")\n",
        "model.compile(optimizer=optimizer, loss=config['loss'], metrics=['categorical_accuracy'])"
      ],
      "metadata": {
        "id": "Q-uvBCoow0SE"
      },
      "execution_count": null,
      "outputs": []
    },
    {
      "cell_type": "code",
      "source": [
        "train_datagen = tf.keras.preprocessing.image.ImageDataGenerator()\n",
        "val_datagen = tf.keras.preprocessing.image.ImageDataGenerator()\n",
        "\n",
        "t_generator = train_datagen.flow(x_train, y_train, batch_size=config[\"batch_size\"], seed=config[\"random_seed\"], shuffle=False)\n",
        "v_generator = val_datagen.flow(x_val, y_val, batch_size=config[\"batch_size\"], seed=config[\"random_seed\"], shuffle=False)\n",
        "\n",
        "def multiinput_train_generator():\n",
        "    while True:\n",
        "        # get the data from the generator\n",
        "        # data is [[img], [metadata and labels]]\n",
        "        # yields batch_size number of entries\n",
        "        data = t_generator.next()\n",
        "\n",
        "        imgs = data[0]\n",
        "        targets = data[1]\n",
        "\n",
        "        yield imgs, targets\n",
        "\n",
        "def multiinput_val_generator():\n",
        "    while True:\n",
        "        data = v_generator.next()\n",
        "\n",
        "        imgs = data[0]\n",
        "        targets = data[1]\n",
        "\n",
        "        yield imgs, targets\n",
        "\n",
        "\n",
        "training_generator = multiinput_train_generator()\n",
        "validation_generator = multiinput_val_generator()"
      ],
      "metadata": {
        "id": "CgIbhmFBGJOe"
      },
      "execution_count": null,
      "outputs": []
    },
    {
      "cell_type": "code",
      "source": [
        "class Metrics(keras.callbacks.Callback):\n",
        "\n",
        "    def __init__(self, val_data, batch_size = 20):\n",
        "        super().__init__()\n",
        "        self.validation_data = val_data\n",
        "        self.batch_size = batch_size\n",
        "\n",
        "    def on_train_begin(self, logs={}):\n",
        "        print(self.validation_data)\n",
        "        self.val_f1s = []\n",
        "        self.val_recalls = []\n",
        "        self.val_precisions = []\n",
        "\n",
        "    def on_epoch_end(self, epoch, logs={}):\n",
        "        batches = len(list(self.validation_data))\n",
        "        total = batches * self.batch_size\n",
        "\n",
        "        val_pred = np.zeros((total,1))\n",
        "        val_true = np.zeros((total))\n",
        "\n",
        "        for batch in range(batches):\n",
        "            xVal, yVal = next(self.validation_data)\n",
        "            val_pred[batch * self.batch_size : (batch+1) * self.batch_size] = np.asarray(self.model.predict(xVal)).round()\n",
        "            val_true[batch * self.batch_size : (batch+1) * self.batch_size] = yVal\n",
        "\n",
        "        val_pred = np.squeeze(val_pred)\n",
        "        #_val_f1 = f1_score(val_true, val_pred)\n",
        "        #_val_precision = precision_score(val_true, val_pred)\n",
        "        #_val_recall = recall_score(val_true, val_pred)\n",
        "\n",
        "        print(val_pred)\n",
        "\n",
        "        #self.val_f1s.append(_val_f1)\n",
        "        #self.val_recalls.append(_val_recall)\n",
        "        #self.val_precisions.append(_val_precision)\n",
        "\n",
        "        return\n",
        "\n",
        "    def get_data(self):\n",
        "        return self._data\n",
        "metrics = Metrics(validation_generator)"
      ],
      "metadata": {
        "id": "9U1zSfyKdiRz"
      },
      "execution_count": null,
      "outputs": []
    },
    {
      "cell_type": "code",
      "source": [
        "history = model.fit(x=x_train, y=y_train, epochs=config[\"epochs\"], callbacks = [early_stopping, LR_plateau], validation_data=(x_val, y_val)) #, steps_per_epoch=0.8*len(x_train) // config[\"batch_size\"], validation_steps=3)"
      ],
      "metadata": {
        "colab": {
          "base_uri": "https://localhost:8080/"
        },
        "id": "xR3v1c6dw5Ht",
        "outputId": "0c2bbe49-0c01-4d9c-cff0-09b517460827"
      },
      "execution_count": null,
      "outputs": [
        {
          "output_type": "stream",
          "name": "stdout",
          "text": [
            "Epoch 1/500\n",
            "6/6 [==============================] - 6s 186ms/step - loss: 1.5352 - categorical_accuracy: 0.3161 - val_loss: 1159901.2500 - val_categorical_accuracy: 0.2586 - lr: 0.0500\n",
            "Epoch 2/500\n",
            "6/6 [==============================] - 1s 123ms/step - loss: 1.0425 - categorical_accuracy: 0.4598 - val_loss: 632816.8125 - val_categorical_accuracy: 0.2586 - lr: 0.0500\n",
            "Epoch 3/500\n",
            "6/6 [==============================] - 1s 122ms/step - loss: 0.8306 - categorical_accuracy: 0.6207 - val_loss: 262023.4844 - val_categorical_accuracy: 0.2586 - lr: 0.0500\n",
            "Epoch 4/500\n",
            "6/6 [==============================] - 1s 123ms/step - loss: 0.8126 - categorical_accuracy: 0.6207 - val_loss: 75011.4062 - val_categorical_accuracy: 0.2586 - lr: 0.0500\n",
            "Epoch 5/500\n",
            "6/6 [==============================] - 1s 121ms/step - loss: 0.7362 - categorical_accuracy: 0.5862 - val_loss: 25268.2734 - val_categorical_accuracy: 0.2586 - lr: 0.0500\n",
            "Epoch 6/500\n",
            "6/6 [==============================] - 1s 126ms/step - loss: 0.7026 - categorical_accuracy: 0.6437 - val_loss: 11957.3105 - val_categorical_accuracy: 0.4310 - lr: 0.0500\n",
            "Epoch 7/500\n",
            "6/6 [==============================] - 1s 121ms/step - loss: 0.6185 - categorical_accuracy: 0.6839 - val_loss: 6984.3062 - val_categorical_accuracy: 0.2586 - lr: 0.0500\n",
            "Epoch 8/500\n",
            "6/6 [==============================] - 1s 122ms/step - loss: 0.5650 - categorical_accuracy: 0.6667 - val_loss: 3858.8728 - val_categorical_accuracy: 0.2586 - lr: 0.0500\n",
            "Epoch 9/500\n",
            "6/6 [==============================] - 1s 124ms/step - loss: 0.5991 - categorical_accuracy: 0.7126 - val_loss: 2768.9299 - val_categorical_accuracy: 0.2586 - lr: 0.0500\n",
            "Epoch 10/500\n",
            "6/6 [==============================] - 1s 122ms/step - loss: 0.5974 - categorical_accuracy: 0.7816 - val_loss: 2069.9712 - val_categorical_accuracy: 0.2759 - lr: 0.0500\n",
            "Epoch 11/500\n",
            "6/6 [==============================] - 1s 122ms/step - loss: 0.4938 - categorical_accuracy: 0.7356 - val_loss: 1463.9489 - val_categorical_accuracy: 0.3793 - lr: 0.0500\n",
            "Epoch 12/500\n",
            "6/6 [==============================] - 1s 131ms/step - loss: 0.4184 - categorical_accuracy: 0.8046 - val_loss: 1006.3138 - val_categorical_accuracy: 0.3793 - lr: 0.0500\n",
            "Epoch 13/500\n",
            "6/6 [==============================] - 1s 133ms/step - loss: 0.4139 - categorical_accuracy: 0.8276 - val_loss: 544.1156 - val_categorical_accuracy: 0.4655 - lr: 0.0500\n",
            "Epoch 14/500\n",
            "6/6 [==============================] - 1s 129ms/step - loss: 0.3592 - categorical_accuracy: 0.8391 - val_loss: 341.7686 - val_categorical_accuracy: 0.4138 - lr: 0.0500\n",
            "Epoch 15/500\n",
            "6/6 [==============================] - 1s 128ms/step - loss: 0.3875 - categorical_accuracy: 0.8506 - val_loss: 393.7335 - val_categorical_accuracy: 0.2414 - lr: 0.0500\n",
            "Epoch 16/500\n",
            "6/6 [==============================] - 1s 129ms/step - loss: 0.2910 - categorical_accuracy: 0.8621 - val_loss: 261.4244 - val_categorical_accuracy: 0.2586 - lr: 0.0500\n",
            "Epoch 17/500\n",
            "6/6 [==============================] - 1s 121ms/step - loss: 0.3139 - categorical_accuracy: 0.8506 - val_loss: 145.0582 - val_categorical_accuracy: 0.2586 - lr: 0.0500\n",
            "Epoch 18/500\n",
            "6/6 [==============================] - 1s 126ms/step - loss: 0.2669 - categorical_accuracy: 0.8851 - val_loss: 146.3600 - val_categorical_accuracy: 0.2759 - lr: 0.0500\n",
            "Epoch 19/500\n",
            "6/6 [==============================] - 1s 126ms/step - loss: 0.2542 - categorical_accuracy: 0.8966 - val_loss: 108.5878 - val_categorical_accuracy: 0.2586 - lr: 0.0500\n",
            "Epoch 20/500\n",
            "6/6 [==============================] - 1s 122ms/step - loss: 0.2297 - categorical_accuracy: 0.9138 - val_loss: 79.4286 - val_categorical_accuracy: 0.2586 - lr: 0.0500\n",
            "Epoch 21/500\n",
            "6/6 [==============================] - 1s 126ms/step - loss: 0.3039 - categorical_accuracy: 0.8678 - val_loss: 84.1780 - val_categorical_accuracy: 0.2931 - lr: 0.0500\n",
            "Epoch 22/500\n",
            "6/6 [==============================] - 1s 121ms/step - loss: 0.3070 - categorical_accuracy: 0.8736 - val_loss: 52.8731 - val_categorical_accuracy: 0.4483 - lr: 0.0500\n",
            "Epoch 23/500\n",
            "6/6 [==============================] - 1s 121ms/step - loss: 0.3347 - categorical_accuracy: 0.8506 - val_loss: 46.8554 - val_categorical_accuracy: 0.4310 - lr: 0.0500\n",
            "Epoch 24/500\n",
            "6/6 [==============================] - 1s 126ms/step - loss: 0.3454 - categorical_accuracy: 0.8678 - val_loss: 42.1564 - val_categorical_accuracy: 0.4310 - lr: 0.0500\n",
            "Epoch 25/500\n",
            "6/6 [==============================] - 1s 121ms/step - loss: 0.2464 - categorical_accuracy: 0.8736 - val_loss: 29.5350 - val_categorical_accuracy: 0.4138 - lr: 0.0500\n",
            "Epoch 26/500\n",
            "6/6 [==============================] - 1s 128ms/step - loss: 0.2012 - categorical_accuracy: 0.9023 - val_loss: 22.6707 - val_categorical_accuracy: 0.4310 - lr: 0.0500\n",
            "Epoch 27/500\n",
            "6/6 [==============================] - 1s 122ms/step - loss: 0.1563 - categorical_accuracy: 0.9310 - val_loss: 24.9739 - val_categorical_accuracy: 0.4138 - lr: 0.0500\n",
            "Epoch 28/500\n",
            "6/6 [==============================] - 1s 122ms/step - loss: 0.1266 - categorical_accuracy: 0.9483 - val_loss: 29.3432 - val_categorical_accuracy: 0.4138 - lr: 0.0500\n",
            "Epoch 29/500\n",
            "6/6 [==============================] - 1s 121ms/step - loss: 0.1477 - categorical_accuracy: 0.9598 - val_loss: 28.3107 - val_categorical_accuracy: 0.4310 - lr: 0.0500\n",
            "Epoch 30/500\n",
            "6/6 [==============================] - 1s 132ms/step - loss: 0.1171 - categorical_accuracy: 0.9598 - val_loss: 25.9569 - val_categorical_accuracy: 0.4655 - lr: 0.0500\n",
            "Epoch 31/500\n",
            "6/6 [==============================] - 1s 129ms/step - loss: 0.1147 - categorical_accuracy: 0.9540 - val_loss: 18.8798 - val_categorical_accuracy: 0.4655 - lr: 0.0500\n",
            "Epoch 32/500\n",
            "6/6 [==============================] - 1s 134ms/step - loss: 0.0912 - categorical_accuracy: 0.9655 - val_loss: 11.5660 - val_categorical_accuracy: 0.5000 - lr: 0.0500\n",
            "Epoch 33/500\n",
            "6/6 [==============================] - 1s 132ms/step - loss: 0.1942 - categorical_accuracy: 0.9425 - val_loss: 8.9931 - val_categorical_accuracy: 0.5000 - lr: 0.0500\n",
            "Epoch 34/500\n",
            "6/6 [==============================] - 1s 123ms/step - loss: 0.1369 - categorical_accuracy: 0.9310 - val_loss: 13.2447 - val_categorical_accuracy: 0.4483 - lr: 0.0500\n",
            "Epoch 35/500\n",
            "6/6 [==============================] - 1s 129ms/step - loss: 0.1594 - categorical_accuracy: 0.9425 - val_loss: 25.9011 - val_categorical_accuracy: 0.4310 - lr: 0.0500\n",
            "Epoch 36/500\n",
            "6/6 [==============================] - 1s 126ms/step - loss: 0.0984 - categorical_accuracy: 0.9713 - val_loss: 26.6808 - val_categorical_accuracy: 0.3966 - lr: 0.0500\n",
            "Epoch 37/500\n",
            "6/6 [==============================] - 1s 126ms/step - loss: 0.0956 - categorical_accuracy: 0.9770 - val_loss: 26.5676 - val_categorical_accuracy: 0.3966 - lr: 0.0500\n",
            "Epoch 38/500\n",
            "6/6 [==============================] - 1s 121ms/step - loss: 0.1673 - categorical_accuracy: 0.9368 - val_loss: 20.6443 - val_categorical_accuracy: 0.4138 - lr: 0.0500\n",
            "Epoch 39/500\n",
            "6/6 [==============================] - 1s 121ms/step - loss: 0.1203 - categorical_accuracy: 0.9483 - val_loss: 21.2365 - val_categorical_accuracy: 0.3448 - lr: 0.0500\n",
            "Epoch 40/500\n",
            "6/6 [==============================] - 1s 121ms/step - loss: 0.1001 - categorical_accuracy: 0.9770 - val_loss: 13.1851 - val_categorical_accuracy: 0.4655 - lr: 0.0500\n",
            "Epoch 41/500\n",
            "6/6 [==============================] - 1s 126ms/step - loss: 0.1209 - categorical_accuracy: 0.9483 - val_loss: 15.0129 - val_categorical_accuracy: 0.4483 - lr: 0.0500\n",
            "Epoch 42/500\n",
            "6/6 [==============================] - 1s 121ms/step - loss: 0.0456 - categorical_accuracy: 0.9943 - val_loss: 22.5604 - val_categorical_accuracy: 0.3276 - lr: 0.0500\n",
            "Epoch 43/500\n",
            "6/6 [==============================] - 1s 121ms/step - loss: 0.1014 - categorical_accuracy: 0.9540 - val_loss: 25.5307 - val_categorical_accuracy: 0.3103 - lr: 0.0500\n",
            "Epoch 44/500\n",
            "6/6 [==============================] - 1s 126ms/step - loss: 0.0304 - categorical_accuracy: 0.9943 - val_loss: 20.6496 - val_categorical_accuracy: 0.3276 - lr: 0.0050\n",
            "Epoch 45/500\n",
            "6/6 [==============================] - 1s 121ms/step - loss: 0.0271 - categorical_accuracy: 0.9943 - val_loss: 16.7951 - val_categorical_accuracy: 0.3276 - lr: 0.0050\n",
            "Epoch 46/500\n",
            "6/6 [==============================] - 1s 125ms/step - loss: 0.0375 - categorical_accuracy: 0.9770 - val_loss: 13.3881 - val_categorical_accuracy: 0.3276 - lr: 0.0050\n",
            "Epoch 47/500\n",
            "6/6 [==============================] - 1s 122ms/step - loss: 0.0460 - categorical_accuracy: 0.9885 - val_loss: 10.5906 - val_categorical_accuracy: 0.3448 - lr: 0.0050\n",
            "Epoch 48/500\n",
            "6/6 [==============================] - 1s 135ms/step - loss: 0.0400 - categorical_accuracy: 0.9885 - val_loss: 8.1305 - val_categorical_accuracy: 0.3448 - lr: 0.0050\n",
            "Epoch 49/500\n",
            "6/6 [==============================] - 1s 128ms/step - loss: 0.0129 - categorical_accuracy: 1.0000 - val_loss: 6.3016 - val_categorical_accuracy: 0.3793 - lr: 0.0050\n",
            "Epoch 50/500\n",
            "6/6 [==============================] - 1s 132ms/step - loss: 0.0408 - categorical_accuracy: 0.9885 - val_loss: 4.9637 - val_categorical_accuracy: 0.4138 - lr: 0.0050\n",
            "Epoch 51/500\n",
            "6/6 [==============================] - 1s 128ms/step - loss: 0.0128 - categorical_accuracy: 1.0000 - val_loss: 3.9760 - val_categorical_accuracy: 0.4483 - lr: 0.0050\n",
            "Epoch 52/500\n",
            "6/6 [==============================] - 1s 129ms/step - loss: 0.0189 - categorical_accuracy: 1.0000 - val_loss: 3.3049 - val_categorical_accuracy: 0.4828 - lr: 0.0050\n",
            "Epoch 53/500\n",
            "6/6 [==============================] - 1s 121ms/step - loss: 0.0269 - categorical_accuracy: 0.9943 - val_loss: 2.7230 - val_categorical_accuracy: 0.4828 - lr: 0.0050\n",
            "Epoch 54/500\n",
            "6/6 [==============================] - 1s 126ms/step - loss: 0.0218 - categorical_accuracy: 0.9885 - val_loss: 2.2141 - val_categorical_accuracy: 0.5345 - lr: 0.0050\n",
            "Epoch 55/500\n",
            "6/6 [==============================] - 1s 121ms/step - loss: 0.0355 - categorical_accuracy: 0.9885 - val_loss: 1.7749 - val_categorical_accuracy: 0.5862 - lr: 0.0050\n",
            "Epoch 56/500\n",
            "6/6 [==============================] - 1s 126ms/step - loss: 0.0336 - categorical_accuracy: 0.9885 - val_loss: 1.4035 - val_categorical_accuracy: 0.6034 - lr: 0.0050\n",
            "Epoch 57/500\n",
            "6/6 [==============================] - 1s 121ms/step - loss: 0.0403 - categorical_accuracy: 0.9885 - val_loss: 1.1868 - val_categorical_accuracy: 0.6724 - lr: 0.0050\n",
            "Epoch 58/500\n",
            "6/6 [==============================] - 1s 127ms/step - loss: 0.0306 - categorical_accuracy: 0.9943 - val_loss: 1.0936 - val_categorical_accuracy: 0.6897 - lr: 0.0050\n",
            "Epoch 59/500\n",
            "6/6 [==============================] - 1s 126ms/step - loss: 0.0434 - categorical_accuracy: 0.9885 - val_loss: 0.9825 - val_categorical_accuracy: 0.6897 - lr: 0.0050\n",
            "Epoch 60/500\n",
            "6/6 [==============================] - 1s 125ms/step - loss: 0.0493 - categorical_accuracy: 0.9828 - val_loss: 0.8608 - val_categorical_accuracy: 0.7069 - lr: 0.0050\n",
            "Epoch 61/500\n",
            "6/6 [==============================] - 1s 127ms/step - loss: 0.0461 - categorical_accuracy: 0.9828 - val_loss: 0.7306 - val_categorical_accuracy: 0.7241 - lr: 0.0050\n",
            "Epoch 62/500\n",
            "6/6 [==============================] - 1s 122ms/step - loss: 0.0186 - categorical_accuracy: 0.9943 - val_loss: 0.5866 - val_categorical_accuracy: 0.7586 - lr: 0.0050\n",
            "Epoch 63/500\n",
            "6/6 [==============================] - 1s 122ms/step - loss: 0.0550 - categorical_accuracy: 0.9713 - val_loss: 0.4931 - val_categorical_accuracy: 0.7759 - lr: 0.0050\n",
            "Epoch 64/500\n",
            "6/6 [==============================] - 1s 121ms/step - loss: 0.0245 - categorical_accuracy: 0.9943 - val_loss: 0.4614 - val_categorical_accuracy: 0.7759 - lr: 0.0050\n",
            "Epoch 65/500\n",
            "6/6 [==============================] - 1s 121ms/step - loss: 0.0334 - categorical_accuracy: 0.9828 - val_loss: 0.4095 - val_categorical_accuracy: 0.7931 - lr: 0.0050\n",
            "Epoch 66/500\n",
            "6/6 [==============================] - 1s 128ms/step - loss: 0.0193 - categorical_accuracy: 1.0000 - val_loss: 0.3455 - val_categorical_accuracy: 0.7931 - lr: 0.0050\n",
            "Epoch 67/500\n",
            "6/6 [==============================] - 1s 133ms/step - loss: 0.0420 - categorical_accuracy: 0.9828 - val_loss: 0.2919 - val_categorical_accuracy: 0.8276 - lr: 0.0050\n",
            "Epoch 68/500\n",
            "6/6 [==============================] - 1s 134ms/step - loss: 0.0159 - categorical_accuracy: 1.0000 - val_loss: 0.2721 - val_categorical_accuracy: 0.8621 - lr: 0.0050\n",
            "Epoch 69/500\n",
            "6/6 [==============================] - 1s 134ms/step - loss: 0.0423 - categorical_accuracy: 0.9943 - val_loss: 0.2363 - val_categorical_accuracy: 0.8793 - lr: 0.0050\n",
            "Epoch 70/500\n",
            "6/6 [==============================] - 1s 123ms/step - loss: 0.0520 - categorical_accuracy: 0.9828 - val_loss: 0.1908 - val_categorical_accuracy: 0.9138 - lr: 0.0050\n",
            "Epoch 71/500\n",
            "6/6 [==============================] - 1s 122ms/step - loss: 0.0263 - categorical_accuracy: 0.9828 - val_loss: 0.1623 - val_categorical_accuracy: 0.9138 - lr: 0.0050\n",
            "Epoch 72/500\n",
            "6/6 [==============================] - 1s 128ms/step - loss: 0.0394 - categorical_accuracy: 0.9943 - val_loss: 0.1653 - val_categorical_accuracy: 0.9138 - lr: 0.0050\n",
            "Epoch 73/500\n",
            "6/6 [==============================] - 1s 126ms/step - loss: 0.0667 - categorical_accuracy: 0.9770 - val_loss: 0.2079 - val_categorical_accuracy: 0.8793 - lr: 0.0050\n",
            "Epoch 74/500\n",
            "6/6 [==============================] - 1s 126ms/step - loss: 0.0574 - categorical_accuracy: 0.9598 - val_loss: 0.4890 - val_categorical_accuracy: 0.8103 - lr: 0.0050\n",
            "Epoch 75/500\n",
            "6/6 [==============================] - 1s 125ms/step - loss: 0.0302 - categorical_accuracy: 0.9943 - val_loss: 0.7747 - val_categorical_accuracy: 0.7414 - lr: 0.0050\n",
            "Epoch 76/500\n",
            "6/6 [==============================] - 1s 121ms/step - loss: 0.0313 - categorical_accuracy: 0.9885 - val_loss: 0.7073 - val_categorical_accuracy: 0.7586 - lr: 0.0050\n",
            "Epoch 77/500\n",
            "6/6 [==============================] - 1s 126ms/step - loss: 0.0242 - categorical_accuracy: 0.9943 - val_loss: 0.3583 - val_categorical_accuracy: 0.8793 - lr: 0.0050\n",
            "Epoch 78/500\n",
            "6/6 [==============================] - 1s 121ms/step - loss: 0.0365 - categorical_accuracy: 0.9943 - val_loss: 0.3491 - val_categorical_accuracy: 0.8621 - lr: 0.0050\n",
            "Epoch 79/500\n",
            "6/6 [==============================] - 1s 121ms/step - loss: 0.0388 - categorical_accuracy: 0.9885 - val_loss: 0.4157 - val_categorical_accuracy: 0.8621 - lr: 0.0050\n",
            "Epoch 80/500\n",
            "6/6 [==============================] - 1s 126ms/step - loss: 0.0128 - categorical_accuracy: 1.0000 - val_loss: 0.6060 - val_categorical_accuracy: 0.8276 - lr: 0.0050\n",
            "Epoch 81/500\n",
            "6/6 [==============================] - 1s 122ms/step - loss: 0.0695 - categorical_accuracy: 0.9770 - val_loss: 0.6185 - val_categorical_accuracy: 0.8103 - lr: 0.0050\n",
            "Epoch 82/500\n",
            "6/6 [==============================] - 1s 126ms/step - loss: 0.0273 - categorical_accuracy: 0.9885 - val_loss: 0.6249 - val_categorical_accuracy: 0.7931 - lr: 5.0000e-04\n",
            "Epoch 83/500\n",
            "6/6 [==============================] - 1s 121ms/step - loss: 0.0080 - categorical_accuracy: 1.0000 - val_loss: 0.6294 - val_categorical_accuracy: 0.8276 - lr: 5.0000e-04\n",
            "Epoch 84/500\n",
            "6/6 [==============================] - 1s 127ms/step - loss: 0.0242 - categorical_accuracy: 0.9943 - val_loss: 0.6432 - val_categorical_accuracy: 0.8103 - lr: 5.0000e-04\n",
            "Epoch 85/500\n",
            "6/6 [==============================] - 1s 125ms/step - loss: 0.0527 - categorical_accuracy: 0.9655 - val_loss: 0.6666 - val_categorical_accuracy: 0.8103 - lr: 5.0000e-04\n",
            "Epoch 86/500\n",
            "6/6 [==============================] - 1s 131ms/step - loss: 0.0349 - categorical_accuracy: 0.9828 - val_loss: 0.6761 - val_categorical_accuracy: 0.7931 - lr: 5.0000e-04\n",
            "Epoch 87/500\n",
            "6/6 [==============================] - 1s 131ms/step - loss: 0.0190 - categorical_accuracy: 0.9943 - val_loss: 0.6798 - val_categorical_accuracy: 0.7931 - lr: 5.0000e-04\n",
            "Epoch 88/500\n",
            "6/6 [==============================] - 1s 129ms/step - loss: 0.0164 - categorical_accuracy: 0.9943 - val_loss: 0.6956 - val_categorical_accuracy: 0.7931 - lr: 5.0000e-04\n",
            "Epoch 89/500\n",
            "6/6 [==============================] - 1s 122ms/step - loss: 0.0495 - categorical_accuracy: 0.9885 - val_loss: 0.7057 - val_categorical_accuracy: 0.7931 - lr: 5.0000e-04\n",
            "Epoch 90/500\n",
            "6/6 [==============================] - 1s 126ms/step - loss: 0.0229 - categorical_accuracy: 0.9943 - val_loss: 0.7197 - val_categorical_accuracy: 0.7931 - lr: 5.0000e-04\n",
            "Epoch 91/500\n",
            "6/6 [==============================] - 1s 121ms/step - loss: 0.0294 - categorical_accuracy: 0.9885 - val_loss: 0.7293 - val_categorical_accuracy: 0.7931 - lr: 5.0000e-04\n",
            "Epoch 92/500\n",
            "6/6 [==============================] - 1s 127ms/step - loss: 0.0343 - categorical_accuracy: 0.9828 - val_loss: 0.7288 - val_categorical_accuracy: 0.8103 - lr: 5.0000e-05\n",
            "Epoch 93/500\n",
            "6/6 [==============================] - 1s 128ms/step - loss: 0.0349 - categorical_accuracy: 0.9770 - val_loss: 0.7251 - val_categorical_accuracy: 0.8103 - lr: 5.0000e-05\n",
            "Epoch 94/500\n",
            "6/6 [==============================] - 1s 126ms/step - loss: 0.0363 - categorical_accuracy: 0.9885 - val_loss: 0.7198 - val_categorical_accuracy: 0.8103 - lr: 5.0000e-05\n",
            "Epoch 95/500\n",
            "6/6 [==============================] - 1s 121ms/step - loss: 0.0239 - categorical_accuracy: 0.9885 - val_loss: 0.7162 - val_categorical_accuracy: 0.8103 - lr: 5.0000e-05\n",
            "Epoch 96/500\n",
            "6/6 [==============================] - 1s 127ms/step - loss: 0.0390 - categorical_accuracy: 0.9943 - val_loss: 0.7215 - val_categorical_accuracy: 0.8103 - lr: 5.0000e-05\n",
            "Epoch 97/500\n",
            "6/6 [==============================] - 1s 121ms/step - loss: 0.0359 - categorical_accuracy: 0.9885 - val_loss: 0.7244 - val_categorical_accuracy: 0.8103 - lr: 5.0000e-05\n",
            "Epoch 98/500\n",
            "6/6 [==============================] - 1s 127ms/step - loss: 0.0210 - categorical_accuracy: 1.0000 - val_loss: 0.7259 - val_categorical_accuracy: 0.8103 - lr: 5.0000e-05\n",
            "Epoch 99/500\n",
            "6/6 [==============================] - 1s 127ms/step - loss: 0.0352 - categorical_accuracy: 0.9770 - val_loss: 0.7211 - val_categorical_accuracy: 0.8103 - lr: 5.0000e-05\n",
            "Epoch 100/500\n",
            "6/6 [==============================] - 1s 126ms/step - loss: 0.0193 - categorical_accuracy: 0.9943 - val_loss: 0.7219 - val_categorical_accuracy: 0.8103 - lr: 5.0000e-05\n",
            "Epoch 101/500\n",
            "6/6 [==============================] - 1s 125ms/step - loss: 0.0319 - categorical_accuracy: 0.9885 - val_loss: 0.7212 - val_categorical_accuracy: 0.8103 - lr: 5.0000e-05\n",
            "Epoch 101: early stopping\n"
          ]
        }
      ]
    },
    {
      "cell_type": "code",
      "source": [
        "#_, train_acc = model.evaluate(x_train, y_train, verbose=0)\n",
        "#_, test_acc = model.evaluate(x_val, y_val, verbose=0)\n",
        "#print('Train: %.3f, Test: %.3f' % (train_acc, test_acc))\n",
        "# plot loss during training\n",
        "fig, ax = plt.subplots(2, 1)\n",
        "fig.tight_layout(pad=5.0)\n",
        "plt.subplot(211)\n",
        "plt.title('Loss')\n",
        "plt.plot(history.history['loss'], label='train')\n",
        "plt.plot(history.history['val_loss'], label='test')\n",
        "plt.legend()\n",
        "# plot accuracy during training\n",
        "plt.subplot(212)\n",
        "plt.title('Accuracy')\n",
        "plt.plot(history.history['categorical_accuracy'], label='train')\n",
        "plt.plot(history.history['val_categorical_accuracy'], label='test')\n",
        "plt.legend()\n",
        "plt.show()"
      ],
      "metadata": {
        "colab": {
          "base_uri": "https://localhost:8080/",
          "height": 394
        },
        "id": "oiS0VhQSUPo1",
        "outputId": "87ff646c-7527-49c4-92a0-9907cf146406"
      },
      "execution_count": null,
      "outputs": [
        {
          "output_type": "display_data",
          "data": {
            "text/plain": [
              "<Figure size 640x480 with 2 Axes>"
            ],
            "image/png": "[encoded data removed]"
          },
          "metadata": {}
        }
      ]
    },
    {
      "cell_type": "code",
      "source": [
        "model.evaluate(x_train, y_train, verbose=0)"
      ],
      "metadata": {
        "colab": {
          "base_uri": "https://localhost:8080/"
        },
        "id": "jL4SLfiUWjgf",
        "outputId": "6d084c46-557a-435a-8064-9973c3089ac7"
      },
      "execution_count": null,
      "outputs": [
        {
          "output_type": "execute_result",
          "data": {
            "text/plain": [
              "[0.00014261862088460475, 1.0]"
            ]
          },
          "metadata": {},
          "execution_count": 299
        }
      ]
    },
    {
      "cell_type": "code",
      "source": [
        "xtest2 = images[0:44]"
      ],
      "metadata": {
        "id": "9rH-XvcTVz6_"
      },
      "execution_count": null,
      "outputs": []
    },
    {
      "cell_type": "code",
      "source": [
        "ytest2 = Y_one_hot[0:44]"
      ],
      "metadata": {
        "id": "4hSwzcj7WBpN"
      },
      "execution_count": null,
      "outputs": []
    },
    {
      "cell_type": "code",
      "source": [
        "ypred = model.predict(xtest2)"
      ],
      "metadata": {
        "colab": {
          "base_uri": "https://localhost:8080/"
        },
        "id": "tD4mpe2vw5mq",
        "outputId": "478d3575-4615-4044-911b-3a331f0683c4"
      },
      "execution_count": null,
      "outputs": [
        {
          "output_type": "stream",
          "name": "stdout",
          "text": [
            "2/2 [==============================] - 1s 501ms/step\n"
          ]
        }
      ]
    },
    {
      "cell_type": "code",
      "source": [
        "ypred"
      ],
      "metadata": {
        "colab": {
          "base_uri": "https://localhost:8080/"
        },
        "id": "k2i9E3A4VkzG",
        "outputId": "f359fa4b-6adf-4490-c34b-998ea805f61f"
      },
      "execution_count": null,
      "outputs": [
        {
          "output_type": "execute_result",
          "data": {
            "text/plain": [
              "array([[7.42368286e-07, 9.99999166e-01, 1.08192559e-07],\n",
              "       [1.33833417e-03, 9.98651087e-01, 1.05812496e-05],\n",
              "       [5.78834988e-05, 6.60481965e-05, 9.99876022e-01],\n",
              "       [1.22327295e-08, 9.99999881e-01, 1.61526657e-07],\n",
              "       [5.49694657e-01, 4.50211823e-01, 9.34958516e-05],\n",
              "       [9.99889970e-01, 4.60436240e-05, 6.40569997e-05],\n",
              "       [6.52782205e-07, 9.99999285e-01, 1.04001757e-07],\n",
              "       [3.64076695e-04, 9.99188840e-01, 4.47057304e-04],\n",
              "       [9.94044721e-01, 5.94748044e-03, 7.86867440e-06],\n",
              "       [9.99360144e-01, 6.30761788e-04, 9.07495451e-06],\n",
              "       [8.95970911e-02, 9.03850138e-01, 6.55271532e-03],\n",
              "       [1.77405852e-07, 1.15118073e-05, 9.99988317e-01],\n",
              "       [9.41903949e-01, 5.29411882e-02, 5.15483227e-03],\n",
              "       [2.87819747e-02, 9.67146635e-01, 4.07143729e-03],\n",
              "       [2.88010853e-07, 9.99999762e-01, 5.56434943e-09],\n",
              "       [9.91819859e-01, 7.39414972e-05, 8.10622610e-03],\n",
              "       [3.20800173e-04, 2.72418489e-04, 9.99406815e-01],\n",
              "       [1.57148907e-06, 9.99996424e-01, 2.06123605e-06],\n",
              "       [1.00000000e+00, 1.68867316e-11, 4.77709582e-12],\n",
              "       [7.12486042e-04, 1.45742172e-06, 9.99286115e-01],\n",
              "       [9.99954343e-01, 1.14636186e-05, 3.41853229e-05],\n",
              "       [9.98506248e-01, 9.91589259e-05, 1.39455427e-03],\n",
              "       [9.99995351e-01, 4.70369514e-06, 1.55248117e-08],\n",
              "       [9.99740303e-01, 2.59092631e-04, 6.34782339e-07],\n",
              "       [2.72779703e-01, 7.27218449e-01, 1.83641157e-06],\n",
              "       [9.52241942e-02, 9.04677033e-01, 9.87378735e-05],\n",
              "       [2.33592819e-02, 1.58036465e-03, 9.75060344e-01],\n",
              "       [2.24481951e-07, 7.42696982e-04, 9.99257028e-01],\n",
              "       [9.96638060e-01, 3.35075846e-03, 1.11118279e-05],\n",
              "       [3.12341598e-07, 9.99999523e-01, 7.92629677e-08],\n",
              "       [3.85896972e-04, 9.99603808e-01, 1.04102801e-05],\n",
              "       [1.48045656e-05, 1.24410464e-04, 9.99860764e-01],\n",
              "       [6.43910951e-08, 9.99384046e-01, 6.15814526e-04],\n",
              "       [9.85805213e-01, 1.33046079e-02, 8.90248746e-04],\n",
              "       [9.97866988e-01, 9.35819757e-04, 1.19718164e-03],\n",
              "       [3.95769748e-05, 9.99957323e-01, 3.07607797e-06],\n",
              "       [6.94120463e-05, 9.99768078e-01, 1.62516546e-04],\n",
              "       [9.96058226e-01, 3.93859576e-03, 3.22308506e-06],\n",
              "       [9.00395274e-01, 9.96011421e-02, 3.65543747e-06],\n",
              "       [5.05011380e-01, 4.54971910e-01, 4.00166474e-02],\n",
              "       [2.18076934e-07, 5.60131230e-05, 9.99943733e-01],\n",
              "       [9.30961370e-01, 1.62099209e-02, 5.28286584e-02],\n",
              "       [2.92500705e-01, 7.07474947e-01, 2.43845225e-05],\n",
              "       [8.74907491e-05, 9.99911666e-01, 8.45867476e-07],\n",
              "       [7.35142589e-01, 4.58733819e-04, 2.64398575e-01],\n",
              "       [2.48552824e-04, 5.74539226e-05, 9.99693990e-01],\n",
              "       [2.59092485e-05, 9.99527693e-01, 4.46471706e-04],\n",
              "       [1.00000000e+00, 1.23905374e-11, 1.86792443e-12],\n",
              "       [2.02581249e-02, 2.21468930e-04, 9.79520440e-01],\n",
              "       [9.99987841e-01, 2.29840271e-06, 9.93321464e-06],\n",
              "       [9.99733984e-01, 4.40648546e-05, 2.21958937e-04],\n",
              "       [9.99999166e-01, 8.40263397e-07, 7.30793337e-09],\n",
              "       [9.99912143e-01, 8.73401368e-05, 4.76094357e-07],\n",
              "       [1.90603480e-01, 8.09393048e-01, 3.50643654e-06],\n",
              "       [2.36836320e-04, 9.99758184e-01, 5.04414947e-06],\n",
              "       [1.08111329e-01, 2.88310833e-02, 8.63057554e-01],\n",
              "       [8.36522304e-07, 4.60434482e-02, 9.53955770e-01],\n",
              "       [9.94075418e-01, 5.90911461e-03, 1.53751680e-05],\n",
              "       [9.61508931e-07, 9.99999046e-01, 2.42504399e-08],\n",
              "       [8.52759928e-04, 9.99128997e-01, 1.82267504e-05],\n",
              "       [3.31666018e-03, 2.17296444e-02, 9.74953711e-01],\n",
              "       [3.88158092e-08, 9.99999642e-01, 3.17536944e-07],\n",
              "       [5.88142753e-01, 4.11777735e-01, 7.95209271e-05],\n",
              "       [9.99990106e-01, 7.55990095e-06, 2.38062580e-06],\n",
              "       [6.77161825e-06, 9.99992967e-01, 1.83890421e-07],\n",
              "       [1.74657372e-03, 9.97469544e-01, 7.83950440e-04],\n",
              "       [9.93850946e-01, 6.14179578e-03, 7.27047063e-06],\n",
              "       [9.85785782e-01, 1.42096644e-02, 4.54898054e-06],\n",
              "       [1.19945891e-01, 8.77644420e-01, 2.40963767e-03],\n",
              "       [9.86100733e-01, 5.30499080e-03, 8.59430525e-03],\n",
              "       [9.97170389e-01, 2.73236632e-03, 9.72623675e-05],\n",
              "       [1.43850152e-03, 9.98556554e-01, 5.05614662e-06],\n",
              "       [2.30465801e-07, 9.99999762e-01, 2.72190182e-08],\n",
              "       [7.27015212e-02, 9.04356784e-05, 9.27208066e-01],\n",
              "       [4.36726809e-01, 4.54759859e-02, 5.17797232e-01],\n",
              "       [1.55893329e-04, 9.99639273e-01, 2.04816301e-04],\n",
              "       [1.00000000e+00, 3.91737372e-11, 8.73745867e-12],\n",
              "       [8.82694789e-04, 7.51524340e-06, 9.99109805e-01],\n",
              "       [9.99455869e-01, 5.08827565e-04, 3.53228970e-05],\n",
              "       [9.99503374e-01, 4.70543782e-05, 4.49574058e-04],\n",
              "       [1.00000000e+00, 5.34001954e-09, 1.09456340e-10],\n",
              "       [9.99770224e-01, 2.27437369e-04, 2.40867280e-06],\n",
              "       [2.22202484e-02, 9.77772534e-01, 7.24143229e-06],\n",
              "       [9.60279067e-05, 9.99902606e-01, 1.32917307e-06],\n",
              "       [7.65307128e-01, 2.00938201e-03, 2.32683510e-01],\n",
              "       [2.79445385e-06, 9.70195234e-01, 2.98019443e-02],\n",
              "       [9.94706929e-01, 5.25212474e-03, 4.10625798e-05],\n",
              "       [4.52258853e-08, 1.00000000e+00, 3.43305864e-08]], dtype=float32)"
            ]
          },
          "metadata": {},
          "execution_count": 86
        }
      ]
    },
    {
      "cell_type": "code",
      "source": [
        "norm_arr = ypred / np.linalg.norm(ypred, axis=1, keepdims=True)"
      ],
      "metadata": {
        "id": "SQD8j_h-T1Y1"
      },
      "execution_count": null,
      "outputs": []
    },
    {
      "cell_type": "code",
      "source": [
        "norm_arr"
      ],
      "metadata": {
        "colab": {
          "base_uri": "https://localhost:8080/"
        },
        "id": "bv-44xy1T5bg",
        "outputId": "9ebc5289-b927-4266-9881-cce5e346ba40"
      },
      "execution_count": null,
      "outputs": [
        {
          "output_type": "execute_result",
          "data": {
            "text/plain": [
              "array([[2.4808681e-02, 8.2409440e-04, 9.9969184e-01],\n",
              "       [3.5530746e-02, 9.9936861e-01, 1.8913306e-05],\n",
              "       [1.0000000e+00, 3.1828365e-06, 8.4301871e-11],\n",
              "       [4.2309975e-03, 9.9995065e-01, 8.9855595e-03],\n",
              "       [4.5630499e-09, 2.8376837e-05, 1.0000000e+00],\n",
              "       [6.0261334e-09, 1.9651206e-05, 1.0000000e+00],\n",
              "       [9.9979609e-01, 2.0193350e-02, 1.7506815e-06],\n",
              "       [9.9997962e-01, 6.3878447e-03, 2.4033918e-08],\n",
              "       [9.9999964e-01, 8.2922645e-04, 4.0081362e-11],\n",
              "       [9.9810833e-01, 6.1479062e-02, 2.4180571e-10],\n",
              "       [9.9999225e-01, 3.9392319e-03, 2.6926770e-07],\n",
              "       [5.0428825e-06, 1.2990928e-04, 1.0000000e+00],\n",
              "       [8.2976121e-01, 5.5811852e-01, 7.8168370e-05],\n",
              "       [2.9240016e-06, 1.0000000e+00, 6.1390608e-07],\n",
              "       [1.3648604e-06, 1.0000000e+00, 7.3368579e-07],\n",
              "       [1.0000000e+00, 5.7602956e-06, 3.9267078e-08],\n",
              "       [2.0501646e-04, 9.9999994e-01, 5.4127877e-08],\n",
              "       [7.1070042e-07, 1.0000000e+00, 1.2773089e-06],\n",
              "       [3.4467221e-06, 9.9999994e-01, 3.1552408e-04],\n",
              "       [1.7641023e-04, 9.9999994e-01, 1.3028359e-04],\n",
              "       [1.0000000e+00, 4.1553068e-09, 1.3744956e-07],\n",
              "       [6.0043731e-03, 9.9998194e-01, 1.9843599e-05],\n",
              "       [2.6116616e-04, 9.9999911e-01, 1.3289789e-03],\n",
              "       [2.3780302e-03, 9.9999541e-01, 1.8876356e-03],\n",
              "       [1.0000000e+00, 3.0668164e-07, 1.5437724e-11],\n",
              "       [1.0000000e+00, 4.2079262e-07, 1.4716535e-08],\n",
              "       [5.7559731e-08, 1.3674571e-02, 9.9990648e-01],\n",
              "       [9.4937667e-07, 1.0000000e+00, 1.2859766e-07],\n",
              "       [6.2228292e-03, 9.9998063e-01, 2.1743976e-05],\n",
              "       [2.1774937e-09, 2.5251339e-08, 1.0000000e+00],\n",
              "       [1.3265401e-01, 9.9116236e-01, 2.7273042e-10],\n",
              "       [2.8230917e-05, 1.0000000e+00, 3.2926560e-05],\n",
              "       [4.5586401e-03, 1.9440243e-02, 9.9980062e-01],\n",
              "       [2.2916359e-04, 9.9945140e-01, 3.3119403e-02],\n",
              "       [9.8892929e-07, 8.2005688e-05, 1.0000000e+00],\n",
              "       [3.7056679e-04, 9.9999863e-01, 1.6207473e-03],\n",
              "       [3.1326829e-07, 1.0000000e+00, 1.1438069e-06],\n",
              "       [9.2482604e-03, 9.9995720e-01, 7.5787488e-05],\n",
              "       [3.1906366e-05, 1.0000000e+00, 1.4993354e-05],\n",
              "       [1.0000000e+00, 3.1678577e-05, 3.9198835e-06],\n",
              "       [8.6492844e-07, 1.0000000e+00, 1.8427266e-07],\n",
              "       [1.0000000e+00, 2.6853380e-07, 1.4223791e-08],\n",
              "       [3.6318706e-08, 1.0067656e-01, 9.9491924e-01],\n",
              "       [6.5663821e-09, 2.5973603e-07, 1.0000000e+00],\n",
              "       [5.2474225e-09, 3.3550882e-07, 1.0000000e+00],\n",
              "       [9.6576524e-01, 2.5941727e-01, 3.7113577e-04],\n",
              "       [1.0000000e+00, 1.6883352e-05, 1.3751219e-04]], dtype=float32)"
            ]
          },
          "metadata": {},
          "execution_count": 302
        }
      ]
    },
    {
      "cell_type": "code",
      "source": [
        "ytest2"
      ],
      "metadata": {
        "colab": {
          "base_uri": "https://localhost:8080/"
        },
        "id": "ZK6Hve19w6-A",
        "outputId": "07ece9f0-3d4e-4245-cc72-d6d9ab97cc6c"
      },
      "execution_count": null,
      "outputs": [
        {
          "output_type": "execute_result",
          "data": {
            "text/plain": [
              "array([[0., 1., 0.],\n",
              "       [0., 1., 0.],\n",
              "       [0., 0., 1.],\n",
              "       [0., 1., 0.],\n",
              "       [0., 1., 0.],\n",
              "       [1., 0., 0.],\n",
              "       [0., 1., 0.],\n",
              "       [0., 1., 0.],\n",
              "       [1., 0., 0.],\n",
              "       [1., 0., 0.],\n",
              "       [0., 1., 0.]])"
            ]
          },
          "metadata": {},
          "execution_count": 71
        }
      ]
    },
    {
      "cell_type": "code",
      "source": [
        "pflat = tf.argmax(ypred, axis = 1)\n",
        "pflat"
      ],
      "metadata": {
        "colab": {
          "base_uri": "https://localhost:8080/"
        },
        "id": "1x7S6f4BUqD7",
        "outputId": "725b63ff-5468-4cb8-ba00-045a232133e5"
      },
      "execution_count": null,
      "outputs": [
        {
          "output_type": "execute_result",
          "data": {
            "text/plain": [
              "<tf.Tensor: shape=(44,), dtype=int64, numpy=\n",
              "array([1, 1, 2, 1, 0, 0, 1, 1, 0, 0, 1, 2, 0, 1, 1, 0, 2, 1, 0, 2, 0, 0,\n",
              "       0, 0, 1, 1, 2, 2, 0, 1, 1, 2, 1, 0, 0, 1, 1, 0, 0, 0, 2, 0, 1, 1])>"
            ]
          },
          "metadata": {},
          "execution_count": 93
        }
      ]
    },
    {
      "cell_type": "code",
      "source": [
        "yflat = tf.argmax(ytest2, axis = 1)\n",
        "yflat"
      ],
      "metadata": {
        "colab": {
          "base_uri": "https://localhost:8080/"
        },
        "id": "vq5QIFegf146",
        "outputId": "0040b81f-6c09-4432-9183-5ba3bfb60580"
      },
      "execution_count": null,
      "outputs": [
        {
          "output_type": "execute_result",
          "data": {
            "text/plain": [
              "<tf.Tensor: shape=(44,), dtype=int64, numpy=\n",
              "array([1, 1, 2, 1, 1, 0, 1, 1, 0, 0, 1, 2, 0, 1, 1, 2, 2, 1, 0, 2, 0, 0,\n",
              "       0, 0, 1, 1, 2, 2, 0, 1, 1, 2, 1, 1, 0, 1, 1, 0, 0, 1, 2, 0, 1, 1])>"
            ]
          },
          "metadata": {},
          "execution_count": 94
        }
      ]
    },
    {
      "cell_type": "code",
      "source": [
        "cm = confusion_matrix(yflat, pflat)\n",
        "disp = ConfusionMatrixDisplay(confusion_matrix=cm)\n",
        "disp.plot()\n",
        "plt.show()"
      ],
      "metadata": {
        "colab": {
          "base_uri": "https://localhost:8080/",
          "height": 455
        },
        "id": "8Pl57xkff-QV",
        "outputId": "3bfe33e7-a294-4bf1-f573-a55669347c9c"
      },
      "execution_count": null,
      "outputs": [
        {
          "output_type": "display_data",
          "data": {
            "text/plain": [
              "<Figure size 640x480 with 2 Axes>"
            ],
            "image/png": "[encoded data removed]"
          },
          "metadata": {}
        }
      ]
    },
    {
      "cell_type": "code",
      "source": [
        "import seaborn as sns"
      ],
      "metadata": {
        "id": "kHhH_vsyXr0L"
      },
      "execution_count": null,
      "outputs": []
    },
    {
      "cell_type": "code",
      "source": [
        "g = sns.heatmap(cm, annot=True,cmap=\"OrRd\")\n",
        "g.set_xticklabels([\"B\", \"C\", \"M\"])\n",
        "g.set_yticklabels([\"B\", \"C\", \"M\"])\n",
        "g.set(xlabel =\"Predicted Label\", ylabel = \"True Label\", title ='Confusion Matrix')\n",
        "plt.show()"
      ],
      "metadata": {
        "colab": {
          "base_uri": "https://localhost:8080/",
          "height": 472
        },
        "id": "ttEHt_dVXusH",
        "outputId": "b1acfa79-e8ef-4835-caaf-fbd7f9f34881"
      },
      "execution_count": null,
      "outputs": [
        {
          "output_type": "display_data",
          "data": {
            "text/plain": [
              "<Figure size 640x480 with 2 Axes>"
            ],
            "image/png": "[encoded data removed]"
          },
          "metadata": {}
        }
      ]
    },
    {
      "cell_type": "code",
      "source": [
        "from sklearn.metrics import accuracy_score\n",
        "accuracy_score(yflat, pflat)"
      ],
      "metadata": {
        "colab": {
          "base_uri": "https://localhost:8080/"
        },
        "id": "MUnVTHdRgGla",
        "outputId": "c09a6164-fd0d-4354-f9d1-b5a4f22a55f3"
      },
      "execution_count": null,
      "outputs": [
        {
          "output_type": "execute_result",
          "data": {
            "text/plain": [
              "0.8085106382978723"
            ]
          },
          "metadata": {},
          "execution_count": 307
        }
      ]
    },
    {
      "cell_type": "code",
      "source": [
        "arr = np.array([[2.4808681e-02, 8.2409440e-04, 9.9969184e-01],\n",
        "       [3.5530746e-02, 9.9936861e-01, 1.8913306e-05],\n",
        "       [1.0000000e+00, 3.1828365e-06, 8.4301871e-11],\n",
        "       [4.2309975e-03, 9.9995065e-01, 8.9855595e-03]])"
      ],
      "metadata": {
        "id": "41dACIMTg_6d"
      },
      "execution_count": null,
      "outputs": []
    },
    {
      "cell_type": "code",
      "source": [
        "arr[0]"
      ],
      "metadata": {
        "colab": {
          "base_uri": "https://localhost:8080/"
        },
        "id": "OH3Yb9F07I-1",
        "outputId": "a1c9f19d-5cd2-4f37-8dd1-7f5cd9472919"
      },
      "execution_count": null,
      "outputs": [
        {
          "output_type": "execute_result",
          "data": {
            "text/plain": [
              "array([2.4808681e-02, 8.2409440e-04, 9.9969184e-01])"
            ]
          },
          "metadata": {},
          "execution_count": 19
        }
      ]
    },
    {
      "cell_type": "code",
      "source": [
        "layer = CustomMax()"
      ],
      "metadata": {
        "id": "jpnusmMs7PKg"
      },
      "execution_count": null,
      "outputs": []
    },
    {
      "cell_type": "code",
      "source": [
        "layer(arr)"
      ],
      "metadata": {
        "colab": {
          "base_uri": "https://localhost:8080/"
        },
        "id": "3QBHy2t87ieF",
        "outputId": "f23a6835-f4ff-4d8c-8613-ef63fbaff771"
      },
      "execution_count": null,
      "outputs": [
        {
          "output_type": "execute_result",
          "data": {
            "text/plain": [
              "<tf.Tensor: shape=(4,), dtype=int64, numpy=array([2, 1, 0, 1])>"
            ]
          },
          "metadata": {},
          "execution_count": 29
        }
      ]
    },
    {
      "cell_type": "code",
      "source": [
        "arr2 = [1, 0 , 2, 1, 0]"
      ],
      "metadata": {
        "id": "Me_4qCFhMRIx"
      },
      "execution_count": null,
      "outputs": []
    },
    {
      "cell_type": "code",
      "source": [
        "l2 = CustomOH()\n",
        "l2(layer(arr))"
      ],
      "metadata": {
        "colab": {
          "base_uri": "https://localhost:8080/"
        },
        "id": "4j_Q1MLDMUmD",
        "outputId": "6d2280d6-9e72-45b9-c054-5199d60ced29"
      },
      "execution_count": null,
      "outputs": [
        {
          "output_type": "execute_result",
          "data": {
            "text/plain": [
              "<tf.Tensor: shape=(4, 3), dtype=float32, numpy=\n",
              "array([[0., 0., 1.],\n",
              "       [0., 1., 0.],\n",
              "       [1., 0., 0.],\n",
              "       [0., 1., 0.]], dtype=float32)>"
            ]
          },
          "metadata": {},
          "execution_count": 37
        }
      ]
    },
    {
      "cell_type": "code",
      "source": [
        "tf.one_hot(x, 2)"
      ],
      "metadata": {
        "colab": {
          "base_uri": "https://localhost:8080/",
          "height": 287
        },
        "id": "rpC0nKAv7zJw",
        "outputId": "f606eb5c-3c59-4acc-b703-974622e9ca40"
      },
      "execution_count": null,
      "outputs": [
        {
          "output_type": "error",
          "ename": "ValueError",
          "evalue": "Attempt to convert a value (<__main__.CustomMax object at 0x7c659add93c0>) with an unsupported type (<class '__main__.CustomMax'>) to a Tensor.",
          "traceback": [
            "\u001b[0;31m---------------------------------------------------------------------------\u001b[0m",
            "\u001b[0;31mValueError\u001b[0m                                Traceback (most recent call last)",
            "\u001b[0;32m<ipython-input-37-947a23999919>\u001b[0m in \u001b[0;36m<cell line: 1>\u001b[0;34m()\u001b[0m\n\u001b[0;32m----> 1\u001b[0;31m \u001b[0mtf\u001b[0m\u001b[0;34m.\u001b[0m\u001b[0mone_hot\u001b[0m\u001b[0;34m(\u001b[0m\u001b[0mx\u001b[0m\u001b[0;34m,\u001b[0m \u001b[0;36m2\u001b[0m\u001b[0;34m)\u001b[0m\u001b[0;34m\u001b[0m\u001b[0;34m\u001b[0m\u001b[0m\n\u001b[0m",
            "\u001b[0;32m/usr/local/lib/python3.10/dist-packages/tensorflow/python/util/traceback_utils.py\u001b[0m in \u001b[0;36merror_handler\u001b[0;34m(*args, **kwargs)\u001b[0m\n\u001b[1;32m    151\u001b[0m     \u001b[0;32mexcept\u001b[0m \u001b[0mException\u001b[0m \u001b[0;32mas\u001b[0m \u001b[0me\u001b[0m\u001b[0;34m:\u001b[0m\u001b[0;34m\u001b[0m\u001b[0;34m\u001b[0m\u001b[0m\n\u001b[1;32m    152\u001b[0m       \u001b[0mfiltered_tb\u001b[0m \u001b[0;34m=\u001b[0m \u001b[0m_process_traceback_frames\u001b[0m\u001b[0;34m(\u001b[0m\u001b[0me\u001b[0m\u001b[0;34m.\u001b[0m\u001b[0m__traceback__\u001b[0m\u001b[0;34m)\u001b[0m\u001b[0;34m\u001b[0m\u001b[0;34m\u001b[0m\u001b[0m\n\u001b[0;32m--> 153\u001b[0;31m       \u001b[0;32mraise\u001b[0m \u001b[0me\u001b[0m\u001b[0;34m.\u001b[0m\u001b[0mwith_traceback\u001b[0m\u001b[0;34m(\u001b[0m\u001b[0mfiltered_tb\u001b[0m\u001b[0;34m)\u001b[0m \u001b[0;32mfrom\u001b[0m \u001b[0;32mNone\u001b[0m\u001b[0;34m\u001b[0m\u001b[0;34m\u001b[0m\u001b[0m\n\u001b[0m\u001b[1;32m    154\u001b[0m     \u001b[0;32mfinally\u001b[0m\u001b[0;34m:\u001b[0m\u001b[0;34m\u001b[0m\u001b[0;34m\u001b[0m\u001b[0m\n\u001b[1;32m    155\u001b[0m       \u001b[0;32mdel\u001b[0m \u001b[0mfiltered_tb\u001b[0m\u001b[0;34m\u001b[0m\u001b[0;34m\u001b[0m\u001b[0m\n",
            "\u001b[0;32m/usr/local/lib/python3.10/dist-packages/tensorflow/python/framework/constant_op.py\u001b[0m in \u001b[0;36mconvert_to_eager_tensor\u001b[0;34m(value, ctx, dtype)\u001b[0m\n\u001b[1;32m    101\u001b[0m       \u001b[0mdtype\u001b[0m \u001b[0;34m=\u001b[0m \u001b[0mdtypes\u001b[0m\u001b[0;34m.\u001b[0m\u001b[0mas_dtype\u001b[0m\u001b[0;34m(\u001b[0m\u001b[0mdtype\u001b[0m\u001b[0;34m)\u001b[0m\u001b[0;34m.\u001b[0m\u001b[0mas_datatype_enum\u001b[0m\u001b[0;34m\u001b[0m\u001b[0;34m\u001b[0m\u001b[0m\n\u001b[1;32m    102\u001b[0m   \u001b[0mctx\u001b[0m\u001b[0;34m.\u001b[0m\u001b[0mensure_initialized\u001b[0m\u001b[0;34m(\u001b[0m\u001b[0;34m)\u001b[0m\u001b[0;34m\u001b[0m\u001b[0;34m\u001b[0m\u001b[0m\n\u001b[0;32m--> 103\u001b[0;31m   \u001b[0;32mreturn\u001b[0m \u001b[0mops\u001b[0m\u001b[0;34m.\u001b[0m\u001b[0mEagerTensor\u001b[0m\u001b[0;34m(\u001b[0m\u001b[0mvalue\u001b[0m\u001b[0;34m,\u001b[0m \u001b[0mctx\u001b[0m\u001b[0;34m.\u001b[0m\u001b[0mdevice_name\u001b[0m\u001b[0;34m,\u001b[0m \u001b[0mdtype\u001b[0m\u001b[0;34m)\u001b[0m\u001b[0;34m\u001b[0m\u001b[0;34m\u001b[0m\u001b[0m\n\u001b[0m\u001b[1;32m    104\u001b[0m \u001b[0;34m\u001b[0m\u001b[0m\n\u001b[1;32m    105\u001b[0m \u001b[0;34m\u001b[0m\u001b[0m\n",
            "\u001b[0;31mValueError\u001b[0m: Attempt to convert a value (<__main__.CustomMax object at 0x7c659add93c0>) with an unsupported type (<class '__main__.CustomMax'>) to a Tensor."
          ]
        }
      ]
    },
    {
      "cell_type": "code",
      "source": [
        "tf.math.argmax(arr, axis = 1)"
      ],
      "metadata": {
        "colab": {
          "base_uri": "https://localhost:8080/"
        },
        "id": "TrHwQWU27_y_",
        "outputId": "ea697f01-dd34-418b-b253-ef4b5609204b"
      },
      "execution_count": null,
      "outputs": [
        {
          "output_type": "execute_result",
          "data": {
            "text/plain": [
              "<tf.Tensor: shape=(4,), dtype=int64, numpy=array([2, 1, 0, 1])>"
            ]
          },
          "metadata": {},
          "execution_count": 46
        }
      ]
    },
    {
      "cell_type": "code",
      "source": [
        "arr.shape"
      ],
      "metadata": {
        "colab": {
          "base_uri": "https://localhost:8080/"
        },
        "id": "4TDVYOFT_SqQ",
        "outputId": "f658f3d4-368b-414e-dab8-29ab9f22ad56"
      },
      "execution_count": null,
      "outputs": [
        {
          "output_type": "execute_result",
          "data": {
            "text/plain": [
              "(4, 3)"
            ]
          },
          "metadata": {},
          "execution_count": 36
        }
      ]
    },
    {
      "cell_type": "code",
      "source": [
        "input_shape = (2, 3, 4)\n",
        "x1 = np.random.rand(*input_shape)\n",
        "x2 = np.random.rand(*input_shape)\n",
        "y = keras.layers.Maximum()([x1, x2])\n",
        "print(y)"
      ],
      "metadata": {
        "id": "IW0Dl-Zc_U_S",
        "colab": {
          "base_uri": "https://localhost:8080/"
        },
        "outputId": "8011fb15-e831-4591-ddab-515984f3d8c7"
      },
      "execution_count": null,
      "outputs": [
        {
          "output_type": "stream",
          "name": "stdout",
          "text": [
            "tf.Tensor(\n",
            "[[[0.45606998 0.9507143  0.7319939  0.5986585 ]\n",
            "  [0.59241456 0.15599452 0.60754484 0.8661761 ]\n",
            "  [0.601115   0.94888556 0.965632   0.96990985]]\n",
            "\n",
            " [[0.83244264 0.21233912 0.684233   0.4401525 ]\n",
            "  [0.30424225 0.52475643 0.43194503 0.9093204 ]\n",
            "  [0.6118529  0.66252226 0.31171107 0.52006805]]], shape=(2, 3, 4), dtype=float32)\n"
          ]
        }
      ]
    },
    {
      "cell_type": "code",
      "source": [
        "np.argmax(arr, axis = 1)"
      ],
      "metadata": {
        "colab": {
          "base_uri": "https://localhost:8080/"
        },
        "id": "tInM60HYSj7P",
        "outputId": "f287ad70-d6b5-4d27-ebed-73374ec53934"
      },
      "execution_count": null,
      "outputs": [
        {
          "output_type": "execute_result",
          "data": {
            "text/plain": [
              "array([2, 1, 0, 1])"
            ]
          },
          "metadata": {},
          "execution_count": 70
        }
      ]
    },
    {
      "cell_type": "code",
      "source": [
        "arr1 = [0, 1 , 2 , 0, 1]\n",
        "arr2 =  [0, 1, 1, 1, 1]\n",
        "\n",
        "tf.keras.metrics.Accuracy(arr1, arr2)"
      ],
      "metadata": {
        "colab": {
          "base_uri": "https://localhost:8080/",
          "height": 321
        },
        "id": "7wyw2V_zYYhB",
        "outputId": "3912260a-5cdc-48de-d718-33c82ff5f27c"
      },
      "execution_count": null,
      "outputs": [
        {
          "output_type": "error",
          "ename": "TypeError",
          "evalue": "Expected `name` argument to be a string, but got: [0, 1, 2, 0, 1]",
          "traceback": [
            "\u001b[0;31m---------------------------------------------------------------------------\u001b[0m",
            "\u001b[0;31mTypeError\u001b[0m                                 Traceback (most recent call last)",
            "\u001b[0;32m<ipython-input-90-9ac6a56fd080>\u001b[0m in \u001b[0;36m<cell line: 4>\u001b[0;34m()\u001b[0m\n\u001b[1;32m      2\u001b[0m \u001b[0marr2\u001b[0m \u001b[0;34m=\u001b[0m  \u001b[0;34m[\u001b[0m\u001b[0;36m0\u001b[0m\u001b[0;34m,\u001b[0m \u001b[0;36m1\u001b[0m\u001b[0;34m,\u001b[0m \u001b[0;36m1\u001b[0m\u001b[0;34m,\u001b[0m \u001b[0;36m1\u001b[0m\u001b[0;34m,\u001b[0m \u001b[0;36m1\u001b[0m\u001b[0;34m]\u001b[0m\u001b[0;34m\u001b[0m\u001b[0;34m\u001b[0m\u001b[0m\n\u001b[1;32m      3\u001b[0m \u001b[0;34m\u001b[0m\u001b[0m\n\u001b[0;32m----> 4\u001b[0;31m \u001b[0mtf\u001b[0m\u001b[0;34m.\u001b[0m\u001b[0mkeras\u001b[0m\u001b[0;34m.\u001b[0m\u001b[0mmetrics\u001b[0m\u001b[0;34m.\u001b[0m\u001b[0mAccuracy\u001b[0m\u001b[0;34m(\u001b[0m\u001b[0marr1\u001b[0m\u001b[0;34m,\u001b[0m \u001b[0marr2\u001b[0m\u001b[0;34m)\u001b[0m\u001b[0;34m\u001b[0m\u001b[0;34m\u001b[0m\u001b[0m\n\u001b[0m",
            "\u001b[0;32m/usr/local/lib/python3.10/dist-packages/keras/src/dtensor/utils.py\u001b[0m in \u001b[0;36m_wrap_function\u001b[0;34m(instance, *args, **kwargs)\u001b[0m\n\u001b[1;32m    142\u001b[0m         \u001b[0;32mif\u001b[0m \u001b[0mmesh\u001b[0m \u001b[0;32mis\u001b[0m \u001b[0;32mnot\u001b[0m \u001b[0;32mNone\u001b[0m\u001b[0;34m:\u001b[0m\u001b[0;34m\u001b[0m\u001b[0;34m\u001b[0m\u001b[0m\n\u001b[1;32m    143\u001b[0m             \u001b[0minstance\u001b[0m\u001b[0;34m.\u001b[0m\u001b[0m_mesh\u001b[0m \u001b[0;34m=\u001b[0m \u001b[0mmesh\u001b[0m\u001b[0;34m\u001b[0m\u001b[0;34m\u001b[0m\u001b[0m\n\u001b[0;32m--> 144\u001b[0;31m         \u001b[0minit_method\u001b[0m\u001b[0;34m(\u001b[0m\u001b[0minstance\u001b[0m\u001b[0;34m,\u001b[0m \u001b[0;34m*\u001b[0m\u001b[0margs\u001b[0m\u001b[0;34m,\u001b[0m \u001b[0;34m**\u001b[0m\u001b[0mkwargs\u001b[0m\u001b[0;34m)\u001b[0m\u001b[0;34m\u001b[0m\u001b[0;34m\u001b[0m\u001b[0m\n\u001b[0m\u001b[1;32m    145\u001b[0m \u001b[0;34m\u001b[0m\u001b[0m\n\u001b[1;32m    146\u001b[0m     return tf.__internal__.decorator.make_decorator(\n",
            "\u001b[0;32m/usr/local/lib/python3.10/dist-packages/keras/src/metrics/accuracy_metrics.py\u001b[0m in \u001b[0;36m__init__\u001b[0;34m(self, name, dtype)\u001b[0m\n\u001b[1;32m     66\u001b[0m     \u001b[0;34m@\u001b[0m\u001b[0mdtensor_utils\u001b[0m\u001b[0;34m.\u001b[0m\u001b[0minject_mesh\u001b[0m\u001b[0;34m\u001b[0m\u001b[0;34m\u001b[0m\u001b[0m\n\u001b[1;32m     67\u001b[0m     \u001b[0;32mdef\u001b[0m \u001b[0m__init__\u001b[0m\u001b[0;34m(\u001b[0m\u001b[0mself\u001b[0m\u001b[0;34m,\u001b[0m \u001b[0mname\u001b[0m\u001b[0;34m=\u001b[0m\u001b[0;34m\"accuracy\"\u001b[0m\u001b[0;34m,\u001b[0m \u001b[0mdtype\u001b[0m\u001b[0;34m=\u001b[0m\u001b[0;32mNone\u001b[0m\u001b[0;34m)\u001b[0m\u001b[0;34m:\u001b[0m\u001b[0;34m\u001b[0m\u001b[0;34m\u001b[0m\u001b[0m\n\u001b[0;32m---> 68\u001b[0;31m         \u001b[0msuper\u001b[0m\u001b[0;34m(\u001b[0m\u001b[0;34m)\u001b[0m\u001b[0;34m.\u001b[0m\u001b[0m__init__\u001b[0m\u001b[0;34m(\u001b[0m\u001b[0maccuracy\u001b[0m\u001b[0;34m,\u001b[0m \u001b[0mname\u001b[0m\u001b[0;34m,\u001b[0m \u001b[0mdtype\u001b[0m\u001b[0;34m=\u001b[0m\u001b[0mdtype\u001b[0m\u001b[0;34m)\u001b[0m\u001b[0;34m\u001b[0m\u001b[0;34m\u001b[0m\u001b[0m\n\u001b[0m\u001b[1;32m     69\u001b[0m \u001b[0;34m\u001b[0m\u001b[0m\n\u001b[1;32m     70\u001b[0m \u001b[0;34m\u001b[0m\u001b[0m\n",
            "\u001b[0;32m/usr/local/lib/python3.10/dist-packages/keras/src/dtensor/utils.py\u001b[0m in \u001b[0;36m_wrap_function\u001b[0;34m(instance, *args, **kwargs)\u001b[0m\n\u001b[1;32m    142\u001b[0m         \u001b[0;32mif\u001b[0m \u001b[0mmesh\u001b[0m \u001b[0;32mis\u001b[0m \u001b[0;32mnot\u001b[0m \u001b[0;32mNone\u001b[0m\u001b[0;34m:\u001b[0m\u001b[0;34m\u001b[0m\u001b[0;34m\u001b[0m\u001b[0m\n\u001b[1;32m    143\u001b[0m             \u001b[0minstance\u001b[0m\u001b[0;34m.\u001b[0m\u001b[0m_mesh\u001b[0m \u001b[0;34m=\u001b[0m \u001b[0mmesh\u001b[0m\u001b[0;34m\u001b[0m\u001b[0;34m\u001b[0m\u001b[0m\n\u001b[0;32m--> 144\u001b[0;31m         \u001b[0minit_method\u001b[0m\u001b[0;34m(\u001b[0m\u001b[0minstance\u001b[0m\u001b[0;34m,\u001b[0m \u001b[0;34m*\u001b[0m\u001b[0margs\u001b[0m\u001b[0;34m,\u001b[0m \u001b[0;34m**\u001b[0m\u001b[0mkwargs\u001b[0m\u001b[0;34m)\u001b[0m\u001b[0;34m\u001b[0m\u001b[0;34m\u001b[0m\u001b[0m\n\u001b[0m\u001b[1;32m    145\u001b[0m \u001b[0;34m\u001b[0m\u001b[0m\n\u001b[1;32m    146\u001b[0m     return tf.__internal__.decorator.make_decorator(\n",
            "\u001b[0;32m/usr/local/lib/python3.10/dist-packages/keras/src/metrics/base_metric.py\u001b[0m in \u001b[0;36m__init__\u001b[0;34m(self, fn, name, dtype, **kwargs)\u001b[0m\n\u001b[1;32m    680\u001b[0m     \u001b[0;34m@\u001b[0m\u001b[0mdtensor_utils\u001b[0m\u001b[0;34m.\u001b[0m\u001b[0minject_mesh\u001b[0m\u001b[0;34m\u001b[0m\u001b[0;34m\u001b[0m\u001b[0m\n\u001b[1;32m    681\u001b[0m     \u001b[0;32mdef\u001b[0m \u001b[0m__init__\u001b[0m\u001b[0;34m(\u001b[0m\u001b[0mself\u001b[0m\u001b[0;34m,\u001b[0m \u001b[0mfn\u001b[0m\u001b[0;34m,\u001b[0m \u001b[0mname\u001b[0m\u001b[0;34m=\u001b[0m\u001b[0;32mNone\u001b[0m\u001b[0;34m,\u001b[0m \u001b[0mdtype\u001b[0m\u001b[0;34m=\u001b[0m\u001b[0;32mNone\u001b[0m\u001b[0;34m,\u001b[0m \u001b[0;34m**\u001b[0m\u001b[0mkwargs\u001b[0m\u001b[0;34m)\u001b[0m\u001b[0;34m:\u001b[0m\u001b[0;34m\u001b[0m\u001b[0;34m\u001b[0m\u001b[0m\n\u001b[0;32m--> 682\u001b[0;31m         \u001b[0msuper\u001b[0m\u001b[0;34m(\u001b[0m\u001b[0;34m)\u001b[0m\u001b[0;34m.\u001b[0m\u001b[0m__init__\u001b[0m\u001b[0;34m(\u001b[0m\u001b[0mname\u001b[0m\u001b[0;34m=\u001b[0m\u001b[0mname\u001b[0m\u001b[0;34m,\u001b[0m \u001b[0mdtype\u001b[0m\u001b[0;34m=\u001b[0m\u001b[0mdtype\u001b[0m\u001b[0;34m)\u001b[0m\u001b[0;34m\u001b[0m\u001b[0;34m\u001b[0m\u001b[0m\n\u001b[0m\u001b[1;32m    683\u001b[0m         \u001b[0mself\u001b[0m\u001b[0;34m.\u001b[0m\u001b[0m_fn\u001b[0m \u001b[0;34m=\u001b[0m \u001b[0mfn\u001b[0m\u001b[0;34m\u001b[0m\u001b[0;34m\u001b[0m\u001b[0m\n\u001b[1;32m    684\u001b[0m         \u001b[0mself\u001b[0m\u001b[0;34m.\u001b[0m\u001b[0m_fn_kwargs\u001b[0m \u001b[0;34m=\u001b[0m \u001b[0mkwargs\u001b[0m\u001b[0;34m\u001b[0m\u001b[0;34m\u001b[0m\u001b[0m\n",
            "\u001b[0;32m/usr/local/lib/python3.10/dist-packages/keras/src/dtensor/utils.py\u001b[0m in \u001b[0;36m_wrap_function\u001b[0;34m(instance, *args, **kwargs)\u001b[0m\n\u001b[1;32m    142\u001b[0m         \u001b[0;32mif\u001b[0m \u001b[0mmesh\u001b[0m \u001b[0;32mis\u001b[0m \u001b[0;32mnot\u001b[0m \u001b[0;32mNone\u001b[0m\u001b[0;34m:\u001b[0m\u001b[0;34m\u001b[0m\u001b[0;34m\u001b[0m\u001b[0m\n\u001b[1;32m    143\u001b[0m             \u001b[0minstance\u001b[0m\u001b[0;34m.\u001b[0m\u001b[0m_mesh\u001b[0m \u001b[0;34m=\u001b[0m \u001b[0mmesh\u001b[0m\u001b[0;34m\u001b[0m\u001b[0;34m\u001b[0m\u001b[0m\n\u001b[0;32m--> 144\u001b[0;31m         \u001b[0minit_method\u001b[0m\u001b[0;34m(\u001b[0m\u001b[0minstance\u001b[0m\u001b[0;34m,\u001b[0m \u001b[0;34m*\u001b[0m\u001b[0margs\u001b[0m\u001b[0;34m,\u001b[0m \u001b[0;34m**\u001b[0m\u001b[0mkwargs\u001b[0m\u001b[0;34m)\u001b[0m\u001b[0;34m\u001b[0m\u001b[0;34m\u001b[0m\u001b[0m\n\u001b[0m\u001b[1;32m    145\u001b[0m \u001b[0;34m\u001b[0m\u001b[0m\n\u001b[1;32m    146\u001b[0m     return tf.__internal__.decorator.make_decorator(\n",
            "\u001b[0;32m/usr/local/lib/python3.10/dist-packages/keras/src/metrics/base_metric.py\u001b[0m in \u001b[0;36m__init__\u001b[0;34m(self, name, dtype)\u001b[0m\n\u001b[1;32m    643\u001b[0m     \u001b[0;34m@\u001b[0m\u001b[0mdtensor_utils\u001b[0m\u001b[0;34m.\u001b[0m\u001b[0minject_mesh\u001b[0m\u001b[0;34m\u001b[0m\u001b[0;34m\u001b[0m\u001b[0m\n\u001b[1;32m    644\u001b[0m     \u001b[0;32mdef\u001b[0m \u001b[0m__init__\u001b[0m\u001b[0;34m(\u001b[0m\u001b[0mself\u001b[0m\u001b[0;34m,\u001b[0m \u001b[0mname\u001b[0m\u001b[0;34m=\u001b[0m\u001b[0;34m\"mean\"\u001b[0m\u001b[0;34m,\u001b[0m \u001b[0mdtype\u001b[0m\u001b[0;34m=\u001b[0m\u001b[0;32mNone\u001b[0m\u001b[0;34m)\u001b[0m\u001b[0;34m:\u001b[0m\u001b[0;34m\u001b[0m\u001b[0;34m\u001b[0m\u001b[0m\n\u001b[0;32m--> 645\u001b[0;31m         super().__init__(\n\u001b[0m\u001b[1;32m    646\u001b[0m             \u001b[0mreduction\u001b[0m\u001b[0;34m=\u001b[0m\u001b[0mmetrics_utils\u001b[0m\u001b[0;34m.\u001b[0m\u001b[0mReduction\u001b[0m\u001b[0;34m.\u001b[0m\u001b[0mWEIGHTED_MEAN\u001b[0m\u001b[0;34m,\u001b[0m\u001b[0;34m\u001b[0m\u001b[0;34m\u001b[0m\u001b[0m\n\u001b[1;32m    647\u001b[0m             \u001b[0mname\u001b[0m\u001b[0;34m=\u001b[0m\u001b[0mname\u001b[0m\u001b[0;34m,\u001b[0m\u001b[0;34m\u001b[0m\u001b[0;34m\u001b[0m\u001b[0m\n",
            "\u001b[0;32m/usr/local/lib/python3.10/dist-packages/keras/src/metrics/base_metric.py\u001b[0m in \u001b[0;36m__init__\u001b[0;34m(self, reduction, name, dtype)\u001b[0m\n\u001b[1;32m    458\u001b[0m \u001b[0;34m\u001b[0m\u001b[0m\n\u001b[1;32m    459\u001b[0m     \u001b[0;32mdef\u001b[0m \u001b[0m__init__\u001b[0m\u001b[0;34m(\u001b[0m\u001b[0mself\u001b[0m\u001b[0;34m,\u001b[0m \u001b[0mreduction\u001b[0m\u001b[0;34m,\u001b[0m \u001b[0mname\u001b[0m\u001b[0;34m,\u001b[0m \u001b[0mdtype\u001b[0m\u001b[0;34m=\u001b[0m\u001b[0;32mNone\u001b[0m\u001b[0;34m)\u001b[0m\u001b[0;34m:\u001b[0m\u001b[0;34m\u001b[0m\u001b[0;34m\u001b[0m\u001b[0m\n\u001b[0;32m--> 460\u001b[0;31m         \u001b[0msuper\u001b[0m\u001b[0;34m(\u001b[0m\u001b[0;34m)\u001b[0m\u001b[0;34m.\u001b[0m\u001b[0m__init__\u001b[0m\u001b[0;34m(\u001b[0m\u001b[0mname\u001b[0m\u001b[0;34m=\u001b[0m\u001b[0mname\u001b[0m\u001b[0;34m,\u001b[0m \u001b[0mdtype\u001b[0m\u001b[0;34m=\u001b[0m\u001b[0mdtype\u001b[0m\u001b[0;34m)\u001b[0m\u001b[0;34m\u001b[0m\u001b[0;34m\u001b[0m\u001b[0m\n\u001b[0m\u001b[1;32m    461\u001b[0m         \u001b[0mself\u001b[0m\u001b[0;34m.\u001b[0m\u001b[0mreduction\u001b[0m \u001b[0;34m=\u001b[0m \u001b[0mreduction\u001b[0m\u001b[0;34m\u001b[0m\u001b[0;34m\u001b[0m\u001b[0m\n\u001b[1;32m    462\u001b[0m         \u001b[0mself\u001b[0m\u001b[0;34m.\u001b[0m\u001b[0mtotal\u001b[0m \u001b[0;34m=\u001b[0m \u001b[0mself\u001b[0m\u001b[0;34m.\u001b[0m\u001b[0madd_weight\u001b[0m\u001b[0;34m(\u001b[0m\u001b[0;34m\"total\"\u001b[0m\u001b[0;34m,\u001b[0m \u001b[0minitializer\u001b[0m\u001b[0;34m=\u001b[0m\u001b[0;34m\"zeros\"\u001b[0m\u001b[0;34m)\u001b[0m\u001b[0;34m\u001b[0m\u001b[0;34m\u001b[0m\u001b[0m\n",
            "\u001b[0;32m/usr/local/lib/python3.10/dist-packages/keras/src/metrics/base_metric.py\u001b[0m in \u001b[0;36m__init__\u001b[0;34m(self, name, dtype, **kwargs)\u001b[0m\n\u001b[1;32m    113\u001b[0m \u001b[0;34m\u001b[0m\u001b[0m\n\u001b[1;32m    114\u001b[0m     \u001b[0;32mdef\u001b[0m \u001b[0m__init__\u001b[0m\u001b[0;34m(\u001b[0m\u001b[0mself\u001b[0m\u001b[0;34m,\u001b[0m \u001b[0mname\u001b[0m\u001b[0;34m=\u001b[0m\u001b[0;32mNone\u001b[0m\u001b[0;34m,\u001b[0m \u001b[0mdtype\u001b[0m\u001b[0;34m=\u001b[0m\u001b[0;32mNone\u001b[0m\u001b[0;34m,\u001b[0m \u001b[0;34m**\u001b[0m\u001b[0mkwargs\u001b[0m\u001b[0;34m)\u001b[0m\u001b[0;34m:\u001b[0m\u001b[0;34m\u001b[0m\u001b[0;34m\u001b[0m\u001b[0m\n\u001b[0;32m--> 115\u001b[0;31m         \u001b[0msuper\u001b[0m\u001b[0;34m(\u001b[0m\u001b[0;34m)\u001b[0m\u001b[0;34m.\u001b[0m\u001b[0m__init__\u001b[0m\u001b[0;34m(\u001b[0m\u001b[0mname\u001b[0m\u001b[0;34m=\u001b[0m\u001b[0mname\u001b[0m\u001b[0;34m,\u001b[0m \u001b[0mdtype\u001b[0m\u001b[0;34m=\u001b[0m\u001b[0mdtype\u001b[0m\u001b[0;34m,\u001b[0m \u001b[0;34m**\u001b[0m\u001b[0mkwargs\u001b[0m\u001b[0;34m)\u001b[0m\u001b[0;34m\u001b[0m\u001b[0;34m\u001b[0m\u001b[0m\n\u001b[0m\u001b[1;32m    116\u001b[0m         \u001b[0mself\u001b[0m\u001b[0;34m.\u001b[0m\u001b[0mstateful\u001b[0m \u001b[0;34m=\u001b[0m \u001b[0;32mTrue\u001b[0m  \u001b[0;31m# All metric layers are stateful.\u001b[0m\u001b[0;34m\u001b[0m\u001b[0;34m\u001b[0m\u001b[0m\n\u001b[1;32m    117\u001b[0m         \u001b[0mself\u001b[0m\u001b[0;34m.\u001b[0m\u001b[0mbuilt\u001b[0m \u001b[0;34m=\u001b[0m \u001b[0;32mTrue\u001b[0m\u001b[0;34m\u001b[0m\u001b[0;34m\u001b[0m\u001b[0m\n",
            "\u001b[0;32m/usr/local/lib/python3.10/dist-packages/tensorflow/python/trackable/base.py\u001b[0m in \u001b[0;36m_method_wrapper\u001b[0;34m(self, *args, **kwargs)\u001b[0m\n\u001b[1;32m    202\u001b[0m     \u001b[0mself\u001b[0m\u001b[0;34m.\u001b[0m\u001b[0m_self_setattr_tracking\u001b[0m \u001b[0;34m=\u001b[0m \u001b[0;32mFalse\u001b[0m  \u001b[0;31m# pylint: disable=protected-access\u001b[0m\u001b[0;34m\u001b[0m\u001b[0;34m\u001b[0m\u001b[0m\n\u001b[1;32m    203\u001b[0m     \u001b[0;32mtry\u001b[0m\u001b[0;34m:\u001b[0m\u001b[0;34m\u001b[0m\u001b[0;34m\u001b[0m\u001b[0m\n\u001b[0;32m--> 204\u001b[0;31m       \u001b[0mresult\u001b[0m \u001b[0;34m=\u001b[0m \u001b[0mmethod\u001b[0m\u001b[0;34m(\u001b[0m\u001b[0mself\u001b[0m\u001b[0;34m,\u001b[0m \u001b[0;34m*\u001b[0m\u001b[0margs\u001b[0m\u001b[0;34m,\u001b[0m \u001b[0;34m**\u001b[0m\u001b[0mkwargs\u001b[0m\u001b[0;34m)\u001b[0m\u001b[0;34m\u001b[0m\u001b[0;34m\u001b[0m\u001b[0m\n\u001b[0m\u001b[1;32m    205\u001b[0m     \u001b[0;32mfinally\u001b[0m\u001b[0;34m:\u001b[0m\u001b[0;34m\u001b[0m\u001b[0;34m\u001b[0m\u001b[0m\n\u001b[1;32m    206\u001b[0m       \u001b[0mself\u001b[0m\u001b[0;34m.\u001b[0m\u001b[0m_self_setattr_tracking\u001b[0m \u001b[0;34m=\u001b[0m \u001b[0mprevious_value\u001b[0m  \u001b[0;31m# pylint: disable=protected-access\u001b[0m\u001b[0;34m\u001b[0m\u001b[0;34m\u001b[0m\u001b[0m\n",
            "\u001b[0;32m/usr/local/lib/python3.10/dist-packages/keras/src/engine/base_layer.py\u001b[0m in \u001b[0;36m__init__\u001b[0;34m(self, trainable, name, dtype, dynamic, **kwargs)\u001b[0m\n\u001b[1;32m    378\u001b[0m         \u001b[0mself\u001b[0m\u001b[0;34m.\u001b[0m\u001b[0m_supports_masking\u001b[0m \u001b[0;34m=\u001b[0m \u001b[0;32mnot\u001b[0m \u001b[0mgeneric_utils\u001b[0m\u001b[0;34m.\u001b[0m\u001b[0mis_default\u001b[0m\u001b[0;34m(\u001b[0m\u001b[0mself\u001b[0m\u001b[0;34m.\u001b[0m\u001b[0mcompute_mask\u001b[0m\u001b[0;34m)\u001b[0m\u001b[0;34m\u001b[0m\u001b[0;34m\u001b[0m\u001b[0m\n\u001b[1;32m    379\u001b[0m \u001b[0;34m\u001b[0m\u001b[0m\n\u001b[0;32m--> 380\u001b[0;31m         \u001b[0mself\u001b[0m\u001b[0;34m.\u001b[0m\u001b[0m_init_set_name\u001b[0m\u001b[0;34m(\u001b[0m\u001b[0mname\u001b[0m\u001b[0;34m)\u001b[0m\u001b[0;34m\u001b[0m\u001b[0;34m\u001b[0m\u001b[0m\n\u001b[0m\u001b[1;32m    381\u001b[0m         self._activity_regularizer = regularizers.get(\n\u001b[1;32m    382\u001b[0m             \u001b[0mkwargs\u001b[0m\u001b[0;34m.\u001b[0m\u001b[0mpop\u001b[0m\u001b[0;34m(\u001b[0m\u001b[0;34m\"activity_regularizer\"\u001b[0m\u001b[0;34m,\u001b[0m \u001b[0;32mNone\u001b[0m\u001b[0;34m)\u001b[0m\u001b[0;34m\u001b[0m\u001b[0;34m\u001b[0m\u001b[0m\n",
            "\u001b[0;32m/usr/local/lib/python3.10/dist-packages/keras/src/engine/base_layer.py\u001b[0m in \u001b[0;36m_init_set_name\u001b[0;34m(self, name, zero_based)\u001b[0m\n\u001b[1;32m   2811\u001b[0m             \u001b[0mself\u001b[0m\u001b[0;34m.\u001b[0m\u001b[0m_name\u001b[0m \u001b[0;34m=\u001b[0m \u001b[0mname\u001b[0m\u001b[0;34m\u001b[0m\u001b[0;34m\u001b[0m\u001b[0m\n\u001b[1;32m   2812\u001b[0m         \u001b[0;32melse\u001b[0m\u001b[0;34m:\u001b[0m\u001b[0;34m\u001b[0m\u001b[0;34m\u001b[0m\u001b[0m\n\u001b[0;32m-> 2813\u001b[0;31m             raise TypeError(\n\u001b[0m\u001b[1;32m   2814\u001b[0m                 \u001b[0;34mf\"Expected `name` argument to be a string, but got: {name}\"\u001b[0m\u001b[0;34m\u001b[0m\u001b[0;34m\u001b[0m\u001b[0m\n\u001b[1;32m   2815\u001b[0m             )\n",
            "\u001b[0;31mTypeError\u001b[0m: Expected `name` argument to be a string, but got: [0, 1, 2, 0, 1]"
          ]
        }
      ]
    },
    {
      "cell_type": "code",
      "source": [],
      "metadata": {
        "id": "4apla9mUbdsB"
      },
      "execution_count": null,
      "outputs": []
    }
  ],
  "metadata": {
    "accelerator": "GPU",
    "colab": {
      "gpuType": "V100",
      "provenance": []
    },
    "kernelspec": {
      "display_name": "Python 3",
      "name": "python3"
    },
    "language_info": {
      "name": "python"
    }
  },
  "nbformat": 4,
  "nbformat_minor": 0
}