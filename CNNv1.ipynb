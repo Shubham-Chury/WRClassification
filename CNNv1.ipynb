{
 "cells": [
  {
   "cell_type": "code",
   "execution_count": 1,
   "id": "d78d414f-b9ab-4c8b-88ec-0be6dca70fee",
   "metadata": {},
   "outputs": [],
   "source": [
    "import numpy as np\n",
    "import pandas as pd\n",
    "import tensorflow as tf\n",
    "import wandb\n",
    "from ast import literal_eval\n",
    "from tensorflow.keras.backend import categorical_crossentropy\n",
    "from tensorflow import keras\n",
    "from keras import layers\n",
    "from keras.models import Sequential\n",
    "from keras.layers import Conv2D, Rescaling, MaxPooling2D, Dropout, Flatten, Dense"
   ]
  },
  {
   "cell_type": "code",
   "execution_count": 2,
   "id": "6095e675-bd62-4869-8f23-bc800d51660e",
   "metadata": {},
   "outputs": [
    {
     "name": "stderr",
     "output_type": "stream",
     "text": [
      "wandb: Currently logged in as: shubhamchury19. Use `wandb login --relogin` to force relogin\n"
     ]
    }
   ],
   "source": [
    "!wandb login"
   ]
  },
  {
   "cell_type": "code",
   "execution_count": 3,
   "id": "4e92114a-931e-4e5e-83a4-0c8579e5bb10",
   "metadata": {},
   "outputs": [
    {
     "name": "stderr",
     "output_type": "stream",
     "text": [
      "Failed to detect the name of this notebook, you can set it manually with the WANDB_NOTEBOOK_NAME environment variable to enable code saving.\n",
      "\u001b[34m\u001b[1mwandb\u001b[0m: Currently logged in as: \u001b[33mshubhamchury19\u001b[0m. Use \u001b[1m`wandb login --relogin`\u001b[0m to force relogin\n"
     ]
    },
    {
     "data": {
      "text/html": [
       "wandb version 0.16.5 is available!  To upgrade, please run:\n",
       " $ pip install wandb --upgrade"
      ],
      "text/plain": [
       "<IPython.core.display.HTML object>"
      ]
     },
     "metadata": {},
     "output_type": "display_data"
    },
    {
     "data": {
      "text/html": [
       "Tracking run with wandb version 0.16.2"
      ],
      "text/plain": [
       "<IPython.core.display.HTML object>"
      ]
     },
     "metadata": {},
     "output_type": "display_data"
    },
    {
     "data": {
      "text/html": [
       "Run data is saved locally in <code>C:\\Users\\shubh\\Documents\\wandb\\run-20240331_133118-mvqo2ht4</code>"
      ],
      "text/plain": [
       "<IPython.core.display.HTML object>"
      ]
     },
     "metadata": {},
     "output_type": "display_data"
    },
    {
     "data": {
      "text/html": [
       "Syncing run <strong><a href='https://wandb.ai/shubhamchury19/WR%20CNN/runs/mvqo2ht4' target=\"_blank\">easy-wildflower-7</a></strong> to <a href='https://wandb.ai/shubhamchury19/WR%20CNN' target=\"_blank\">Weights & Biases</a> (<a href='https://wandb.me/run' target=\"_blank\">docs</a>)<br/>"
      ],
      "text/plain": [
       "<IPython.core.display.HTML object>"
      ]
     },
     "metadata": {},
     "output_type": "display_data"
    },
    {
     "data": {
      "text/html": [
       " View project at <a href='https://wandb.ai/shubhamchury19/WR%20CNN' target=\"_blank\">https://wandb.ai/shubhamchury19/WR%20CNN</a>"
      ],
      "text/plain": [
       "<IPython.core.display.HTML object>"
      ]
     },
     "metadata": {},
     "output_type": "display_data"
    },
    {
     "data": {
      "text/html": [
       " View run at <a href='https://wandb.ai/shubhamchury19/WR%20CNN/runs/mvqo2ht4' target=\"_blank\">https://wandb.ai/shubhamchury19/WR%20CNN/runs/mvqo2ht4</a>"
      ],
      "text/plain": [
       "<IPython.core.display.HTML object>"
      ]
     },
     "metadata": {},
     "output_type": "display_data"
    },
    {
     "data": {
      "text/html": [
       "<button onClick=\"this.nextSibling.style.display='block';this.style.display='none';\">Display W&B run</button><iframe src='https://wandb.ai/shubhamchury19/WR%20CNN/runs/mvqo2ht4?jupyter=true' style='border:none;width:100%;height:420px;display:none;'></iframe>"
      ],
      "text/plain": [
       "<wandb.sdk.wandb_run.Run at 0x2b32d22ca60>"
      ]
     },
     "execution_count": 3,
     "metadata": {},
     "output_type": "execute_result"
    }
   ],
   "source": [
    "wandb.init(project=\"WR CNN\")"
   ]
  },
  {
   "cell_type": "code",
   "execution_count": 4,
   "id": "5a843a98-9050-4c4b-baeb-5eb2ce11989a",
   "metadata": {},
   "outputs": [],
   "source": [
    "def Model(config):\n",
    "   ##model building\n",
    "    model = Sequential()\n",
    "    #convolutional layer with rectified linear unit activation\n",
    "    model.add(Conv2D(32, kernel_size=(3, 3),\n",
    "                 activation='relu',\n",
    "                 input_shape=config['image_size']))\n",
    "    #32 convolution filters used each of size 3x3\n",
    "    #again\n",
    "    model.add(Rescaling(1./255))\n",
    "    model.add(Conv2D(64, (16, 16), activation='relu'))\n",
    "    #64 convolution filters used each of size 3x3\n",
    "    #choose the best features via pooling\n",
    "    model.add(MaxPooling2D(pool_size=(2, 2)))\n",
    "    #randomly turn neurons on and off to improve convergence\n",
    "    model.add(Dropout(0.25))\n",
    "    #flatten since too many dimensions, we only want a classification output\n",
    "    model.add(Flatten())\n",
    "    #fully connected to get all relevant data\n",
    "    model.add(Dense(128, activation='relu'))\n",
    "    #one more dropout for convergence' sake :) \n",
    "    model.add(Dropout(0.5))\n",
    "    #output a softmax to squash the matrix into output probabilities\n",
    "    model.add(Dense(1, activation='relu'))\n",
    "\n",
    "    return model"
   ]
  },
  {
   "cell_type": "code",
   "execution_count": 5,
   "id": "10554587-8ac8-43c5-b597-a6a8df487368",
   "metadata": {},
   "outputs": [],
   "source": [
    "# we define some basic constants.\n",
    "config = {\n",
    "    'image_size': (300,300,2),\n",
    "    #'metadata_size': (14,),\n",
    "    'dropout_1': 0.3,\n",
    "    'dropout_2': 0.3,\n",
    "    'dropout_3': 0.3,\n",
    "}\n",
    "# we add to our config some of the constants used in the training process\n",
    "config.update({\n",
    "    'batch_size': 32,\n",
    "    'epochs': 10,\n",
    "    'learning_rate': 0.1,\n",
    "    'loss': 'categorical_crossentropy',\n",
    "    'optimizer': 'adam',\n",
    "    'random_seed': 42,\n",
    "    'train_data_version': \"ZTFSS\",\n",
    "    'early_stopping_patience': 10,\n",
    "    'LR_plateau_patience': 20,\n",
    "    'reduce_LR_factor': 0.5,\n",
    "    'reduce_LR_minLR': 1e-6, \n",
    "    'beta_1': 0.9,\n",
    "    'beta_2': 0.999\n",
    "})\n",
    "tf.keras.backend.clear_session()\n",
    "tf.keras.utils.set_random_seed(config[\"random_seed\"])"
   ]
  },
  {
   "cell_type": "code",
   "execution_count": 6,
   "id": "2c8bb32f-72e9-4265-b550-7720d2c8f95f",
   "metadata": {},
   "outputs": [],
   "source": [
    "cand = pd.read_csv(\"nolabels.csv\")\n",
    "images = np.load(\"imagecsv.npy\")\n",
    "#val_cand = pd.read_csv(f'data/val_cand_{config[\"train_data_version\"]}.csv')\n",
    "#val_triplets = np.load(f'data/val_triplets_{config[\"train_data_version\"]}.npy', mmap_mode='r')\n",
    "\n",
    "#gen_cols = np.append(config['metadata_cols'], ['Label'])\n",
    "\n",
    "x_train, y_train = images[:-3, :, :, :], np.where(cand['Label'] == 'B', 0, 1)[:-3]\n",
    "x_val, y_val = images[:3, :, :, :], np.where(cand['Label'] == 'B', 0, 1)[:3]\n",
    "#x_val, y_val = val_triplets, val_cand['label']\n",
    "\n",
    "# train_df is a combination of the desired metadata cols and y_train (labels)\n",
    "# we provide the model a custom generator function to separate these as necessary\n",
    "\n",
    "#train_df = cand[gen_cols]\n",
    "#val_df = val_cand[gen_cols]"
   ]
  },
  {
   "cell_type": "code",
   "execution_count": 7,
   "id": "4d97ebf9-7110-4a14-a3e7-ed2c25c87c0b",
   "metadata": {},
   "outputs": [
    {
     "data": {
      "text/plain": [
       "(20, 300, 300, 2)"
      ]
     },
     "execution_count": 7,
     "metadata": {},
     "output_type": "execute_result"
    }
   ],
   "source": [
    "images.shape"
   ]
  },
  {
   "cell_type": "code",
   "execution_count": 8,
   "id": "e80c576c-ac12-464f-b82c-011525a8ee50",
   "metadata": {},
   "outputs": [
    {
     "data": {
      "text/plain": [
       "(3, 300, 300, 2)"
      ]
     },
     "execution_count": 8,
     "metadata": {},
     "output_type": "execute_result"
    }
   ],
   "source": [
    "images[:-3, :, :, :].shape\n",
    "images[:3, :, :, :].shape"
   ]
  },
  {
   "cell_type": "code",
   "execution_count": 15,
   "id": "046229f9-fa44-4744-8832-04eb6b147025",
   "metadata": {},
   "outputs": [
    {
     "data": {
      "text/plain": [
       "(17,)"
      ]
     },
     "execution_count": 15,
     "metadata": {},
     "output_type": "execute_result"
    }
   ],
   "source": [
    "cand['Label'][:-3].shape"
   ]
  },
  {
   "cell_type": "code",
   "execution_count": 17,
   "id": "2d5f7c26-2e12-48c9-9a62-47910d75484f",
   "metadata": {},
   "outputs": [],
   "source": [
    "early_stopping = tf.keras.callbacks.EarlyStopping(\n",
    "    monitor='val_loss',\n",
    "    verbose=1, \n",
    "    patience=config['early_stopping_patience']\n",
    ")\n",
    "\n",
    "# reduce learning rate if no improvement in validation loss over patience epochs\n",
    "LR_plateau = tf.keras.callbacks.ReduceLROnPlateau(\n",
    "    monitor=\"val_loss\", \n",
    "    patience=config['LR_plateau_patience'],\n",
    "    factor=config['reduce_LR_factor'],\n",
    "    min_lr=config['reduce_LR_minLR'],\n",
    "    verbose=0\n",
    ")"
   ]
  },
  {
   "cell_type": "code",
   "execution_count": 18,
   "id": "eb850884-5c33-4588-ac02-c06c719f85a0",
   "metadata": {},
   "outputs": [],
   "source": [
    "model = Model(config)"
   ]
  },
  {
   "cell_type": "code",
   "execution_count": 19,
   "id": "584b6306-57e9-4aa3-9bc8-d5eaf004722a",
   "metadata": {},
   "outputs": [],
   "source": [
    "optimizer = tf.keras.optimizers.Adam(\n",
    "    learning_rate=config['learning_rate'], \n",
    "    beta_1=config['beta_1'],\n",
    "    beta_2=config['beta_2']\n",
    ")\n",
    "model.compile(optimizer=optimizer, loss=config['loss'], metrics=['categorical_accuracy'])"
   ]
  },
  {
   "cell_type": "code",
   "execution_count": 20,
   "id": "cba4777f-8456-40a8-80a2-657ebfb00034",
   "metadata": {},
   "outputs": [
    {
     "data": {
      "text/plain": [
       "(17, 300, 300, 2)"
      ]
     },
     "execution_count": 20,
     "metadata": {},
     "output_type": "execute_result"
    }
   ],
   "source": [
    "x_train.shape"
   ]
  },
  {
   "cell_type": "code",
   "execution_count": 21,
   "id": "8f34ea7a-c1e2-4dd8-9671-12457d650732",
   "metadata": {},
   "outputs": [
    {
     "data": {
      "text/plain": [
       "(17, 1)"
      ]
     },
     "execution_count": 21,
     "metadata": {},
     "output_type": "execute_result"
    }
   ],
   "source": [
    "y_train.reshape(17,1).shape"
   ]
  },
  {
   "cell_type": "code",
   "execution_count": null,
   "id": "d923a7fa-3f4b-4368-b051-2ba6b73d93a5",
   "metadata": {},
   "outputs": [
    {
     "name": "stdout",
     "output_type": "stream",
     "text": [
      "Epoch 1/10\n",
      "1/1 [==============================] - 2388s 2388s/step - loss: nan - categorical_accuracy: 1.0000 - val_loss: nan - val_categorical_accuracy: 1.0000\n",
      "Epoch 2/10\n"
     ]
    }
   ],
   "source": [
    "model.fit(x_train, y_train.reshape(17,1), epochs=config[\"epochs\"], validation_data=(x_val, y_val.reshape(3,1)))"
   ]
  },
  {
   "cell_type": "code",
   "execution_count": null,
   "id": "a9fd273c-2177-4e84-b1f2-d96c4cea46c9",
   "metadata": {},
   "outputs": [],
   "source": [
    "model.predict(x_train)"
   ]
  },
  {
   "cell_type": "code",
   "execution_count": 87,
   "id": "209b3274-a3f7-4c86-9541-0c5a7c27545f",
   "metadata": {},
   "outputs": [
    {
     "data": {
      "text/plain": [
       "array([1, 0])"
      ]
     },
     "execution_count": 87,
     "metadata": {},
     "output_type": "execute_result"
    }
   ],
   "source": [
    "y_val"
   ]
  },
  {
   "cell_type": "code",
   "execution_count": 72,
   "id": "eba9c252-eef1-4958-9de9-fc9bec393823",
   "metadata": {},
   "outputs": [
    {
     "data": {
      "text/plain": [
       "array([1, 0, 0, 0, 1, 0, 1, 1, 0, 0, 0, 0, 0])"
      ]
     },
     "execution_count": 72,
     "metadata": {},
     "output_type": "execute_result"
    }
   ],
   "source": [
    "y_train"
   ]
  },
  {
   "cell_type": "code",
   "execution_count": null,
   "id": "4d72d0e7-ae32-4bac-a5cd-5dd91604d808",
   "metadata": {},
   "outputs": [],
   "source": []
  }
 ],
 "metadata": {
  "kernelspec": {
   "display_name": "Python 3 (ipykernel)",
   "language": "python",
   "name": "python3"
  },
  "language_info": {
   "codemirror_mode": {
    "name": "ipython",
    "version": 3
   },
   "file_extension": ".py",
   "mimetype": "text/x-python",
   "name": "python",
   "nbconvert_exporter": "python",
   "pygments_lexer": "ipython3",
   "version": "3.9.18"
  }
 },
 "nbformat": 4,
 "nbformat_minor": 5
}
